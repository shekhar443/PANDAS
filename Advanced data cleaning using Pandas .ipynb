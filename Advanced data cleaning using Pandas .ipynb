{
 "cells": [
  {
   "cell_type": "markdown",
   "id": "a1573a5f",
   "metadata": {},
   "source": [
    "### ADVANCED PANDAS"
   ]
  },
  {
   "cell_type": "code",
   "execution_count": 56,
   "id": "25ba7c4b",
   "metadata": {},
   "outputs": [],
   "source": [
    "import pandas as pd"
   ]
  },
  {
   "cell_type": "code",
   "execution_count": 57,
   "id": "8759301c",
   "metadata": {},
   "outputs": [],
   "source": [
    "import numpy as np"
   ]
  },
  {
   "cell_type": "code",
   "execution_count": 58,
   "id": "3398b7ba",
   "metadata": {},
   "outputs": [],
   "source": [
    "df=pd.read_excel(\"Documents/weather1.xlsx\")"
   ]
  },
  {
   "cell_type": "code",
   "execution_count": 59,
   "id": "e037b3a6",
   "metadata": {},
   "outputs": [
    {
     "data": {
      "text/html": [
       "<div>\n",
       "<style scoped>\n",
       "    .dataframe tbody tr th:only-of-type {\n",
       "        vertical-align: middle;\n",
       "    }\n",
       "\n",
       "    .dataframe tbody tr th {\n",
       "        vertical-align: top;\n",
       "    }\n",
       "\n",
       "    .dataframe thead th {\n",
       "        text-align: right;\n",
       "    }\n",
       "</style>\n",
       "<table border=\"1\" class=\"dataframe\">\n",
       "  <thead>\n",
       "    <tr style=\"text-align: right;\">\n",
       "      <th></th>\n",
       "      <th>DAY</th>\n",
       "      <th>TEMPARATURE</th>\n",
       "      <th>WINDSPEED</th>\n",
       "      <th>EVEN</th>\n",
       "    </tr>\n",
       "  </thead>\n",
       "  <tbody>\n",
       "    <tr>\n",
       "      <th>0</th>\n",
       "      <td>2017-01-01</td>\n",
       "      <td>32</td>\n",
       "      <td>6</td>\n",
       "      <td>Rain</td>\n",
       "    </tr>\n",
       "    <tr>\n",
       "      <th>1</th>\n",
       "      <td>2017-01-02</td>\n",
       "      <td>-99999</td>\n",
       "      <td>7</td>\n",
       "      <td>Sunny</td>\n",
       "    </tr>\n",
       "    <tr>\n",
       "      <th>2</th>\n",
       "      <td>2017-01-03</td>\n",
       "      <td>28</td>\n",
       "      <td>-99999</td>\n",
       "      <td>Snow</td>\n",
       "    </tr>\n",
       "    <tr>\n",
       "      <th>3</th>\n",
       "      <td>2017-01-04</td>\n",
       "      <td>-99999</td>\n",
       "      <td>7</td>\n",
       "      <td>0</td>\n",
       "    </tr>\n",
       "    <tr>\n",
       "      <th>4</th>\n",
       "      <td>2017-01-05</td>\n",
       "      <td>32</td>\n",
       "      <td>-99999</td>\n",
       "      <td>Rain</td>\n",
       "    </tr>\n",
       "    <tr>\n",
       "      <th>5</th>\n",
       "      <td>2017-01-06</td>\n",
       "      <td>31</td>\n",
       "      <td>2</td>\n",
       "      <td>Sunny</td>\n",
       "    </tr>\n",
       "    <tr>\n",
       "      <th>6</th>\n",
       "      <td>2017-01-06</td>\n",
       "      <td>34</td>\n",
       "      <td>5</td>\n",
       "      <td>0</td>\n",
       "    </tr>\n",
       "    <tr>\n",
       "      <th>7</th>\n",
       "      <td>2017-01-07</td>\n",
       "      <td>38</td>\n",
       "      <td>7</td>\n",
       "      <td>Rain</td>\n",
       "    </tr>\n",
       "  </tbody>\n",
       "</table>\n",
       "</div>"
      ],
      "text/plain": [
       "         DAY  TEMPARATURE  WINDSPEED   EVEN\n",
       "0 2017-01-01           32          6   Rain\n",
       "1 2017-01-02       -99999          7  Sunny\n",
       "2 2017-01-03           28     -99999   Snow\n",
       "3 2017-01-04       -99999          7      0\n",
       "4 2017-01-05           32     -99999   Rain\n",
       "5 2017-01-06           31          2  Sunny\n",
       "6 2017-01-06           34          5      0\n",
       "7 2017-01-07           38          7   Rain"
      ]
     },
     "execution_count": 59,
     "metadata": {},
     "output_type": "execute_result"
    }
   ],
   "source": [
    "df"
   ]
  },
  {
   "cell_type": "code",
   "execution_count": 60,
   "id": "65b4747e",
   "metadata": {},
   "outputs": [
    {
     "data": {
      "text/plain": [
       "(8, 4)"
      ]
     },
     "execution_count": 60,
     "metadata": {},
     "output_type": "execute_result"
    }
   ],
   "source": [
    "df.shape"
   ]
  },
  {
   "cell_type": "code",
   "execution_count": 61,
   "id": "fe010a4c",
   "metadata": {},
   "outputs": [
    {
     "name": "stdout",
     "output_type": "stream",
     "text": [
      "<class 'pandas.core.frame.DataFrame'>\n",
      "RangeIndex: 8 entries, 0 to 7\n",
      "Data columns (total 4 columns):\n",
      " #   Column       Non-Null Count  Dtype         \n",
      "---  ------       --------------  -----         \n",
      " 0   DAY          8 non-null      datetime64[ns]\n",
      " 1   TEMPARATURE  8 non-null      int64         \n",
      " 2   WINDSPEED    8 non-null      int64         \n",
      " 3   EVEN         8 non-null      object        \n",
      "dtypes: datetime64[ns](1), int64(2), object(1)\n",
      "memory usage: 384.0+ bytes\n"
     ]
    }
   ],
   "source": [
    "df.info()"
   ]
  },
  {
   "cell_type": "markdown",
   "id": "2425453c",
   "metadata": {},
   "source": [
    "### Replacing a nan value"
   ]
  },
  {
   "cell_type": "code",
   "execution_count": 62,
   "id": "9a2fc199",
   "metadata": {},
   "outputs": [],
   "source": [
    "df.replace(-99999,value=np.NaN,inplace=True)"
   ]
  },
  {
   "cell_type": "code",
   "execution_count": 63,
   "id": "cc620425",
   "metadata": {
    "scrolled": false
   },
   "outputs": [
    {
     "data": {
      "text/html": [
       "<div>\n",
       "<style scoped>\n",
       "    .dataframe tbody tr th:only-of-type {\n",
       "        vertical-align: middle;\n",
       "    }\n",
       "\n",
       "    .dataframe tbody tr th {\n",
       "        vertical-align: top;\n",
       "    }\n",
       "\n",
       "    .dataframe thead th {\n",
       "        text-align: right;\n",
       "    }\n",
       "</style>\n",
       "<table border=\"1\" class=\"dataframe\">\n",
       "  <thead>\n",
       "    <tr style=\"text-align: right;\">\n",
       "      <th></th>\n",
       "      <th>DAY</th>\n",
       "      <th>TEMPARATURE</th>\n",
       "      <th>WINDSPEED</th>\n",
       "      <th>EVEN</th>\n",
       "    </tr>\n",
       "  </thead>\n",
       "  <tbody>\n",
       "    <tr>\n",
       "      <th>0</th>\n",
       "      <td>2017-01-01</td>\n",
       "      <td>32.0</td>\n",
       "      <td>6.0</td>\n",
       "      <td>Rain</td>\n",
       "    </tr>\n",
       "    <tr>\n",
       "      <th>1</th>\n",
       "      <td>2017-01-02</td>\n",
       "      <td>NaN</td>\n",
       "      <td>7.0</td>\n",
       "      <td>Sunny</td>\n",
       "    </tr>\n",
       "    <tr>\n",
       "      <th>2</th>\n",
       "      <td>2017-01-03</td>\n",
       "      <td>28.0</td>\n",
       "      <td>NaN</td>\n",
       "      <td>Snow</td>\n",
       "    </tr>\n",
       "    <tr>\n",
       "      <th>3</th>\n",
       "      <td>2017-01-04</td>\n",
       "      <td>NaN</td>\n",
       "      <td>7.0</td>\n",
       "      <td>0</td>\n",
       "    </tr>\n",
       "    <tr>\n",
       "      <th>4</th>\n",
       "      <td>2017-01-05</td>\n",
       "      <td>32.0</td>\n",
       "      <td>NaN</td>\n",
       "      <td>Rain</td>\n",
       "    </tr>\n",
       "    <tr>\n",
       "      <th>5</th>\n",
       "      <td>2017-01-06</td>\n",
       "      <td>31.0</td>\n",
       "      <td>2.0</td>\n",
       "      <td>Sunny</td>\n",
       "    </tr>\n",
       "    <tr>\n",
       "      <th>6</th>\n",
       "      <td>2017-01-06</td>\n",
       "      <td>34.0</td>\n",
       "      <td>5.0</td>\n",
       "      <td>0</td>\n",
       "    </tr>\n",
       "    <tr>\n",
       "      <th>7</th>\n",
       "      <td>2017-01-07</td>\n",
       "      <td>38.0</td>\n",
       "      <td>7.0</td>\n",
       "      <td>Rain</td>\n",
       "    </tr>\n",
       "  </tbody>\n",
       "</table>\n",
       "</div>"
      ],
      "text/plain": [
       "         DAY  TEMPARATURE  WINDSPEED   EVEN\n",
       "0 2017-01-01         32.0        6.0   Rain\n",
       "1 2017-01-02          NaN        7.0  Sunny\n",
       "2 2017-01-03         28.0        NaN   Snow\n",
       "3 2017-01-04          NaN        7.0      0\n",
       "4 2017-01-05         32.0        NaN   Rain\n",
       "5 2017-01-06         31.0        2.0  Sunny\n",
       "6 2017-01-06         34.0        5.0      0\n",
       "7 2017-01-07         38.0        7.0   Rain"
      ]
     },
     "execution_count": 63,
     "metadata": {},
     "output_type": "execute_result"
    }
   ],
   "source": [
    "df"
   ]
  },
  {
   "cell_type": "markdown",
   "id": "bbc39de0",
   "metadata": {},
   "source": [
    "### Replaceing list of values with a value"
   ]
  },
  {
   "cell_type": "code",
   "execution_count": 64,
   "id": "91b541fd",
   "metadata": {},
   "outputs": [],
   "source": [
    "df.replace([32.0,7.0],value=99,inplace=True)"
   ]
  },
  {
   "cell_type": "code",
   "execution_count": 65,
   "id": "703a0736",
   "metadata": {
    "scrolled": true
   },
   "outputs": [
    {
     "data": {
      "text/html": [
       "<div>\n",
       "<style scoped>\n",
       "    .dataframe tbody tr th:only-of-type {\n",
       "        vertical-align: middle;\n",
       "    }\n",
       "\n",
       "    .dataframe tbody tr th {\n",
       "        vertical-align: top;\n",
       "    }\n",
       "\n",
       "    .dataframe thead th {\n",
       "        text-align: right;\n",
       "    }\n",
       "</style>\n",
       "<table border=\"1\" class=\"dataframe\">\n",
       "  <thead>\n",
       "    <tr style=\"text-align: right;\">\n",
       "      <th></th>\n",
       "      <th>DAY</th>\n",
       "      <th>TEMPARATURE</th>\n",
       "      <th>WINDSPEED</th>\n",
       "      <th>EVEN</th>\n",
       "    </tr>\n",
       "  </thead>\n",
       "  <tbody>\n",
       "    <tr>\n",
       "      <th>0</th>\n",
       "      <td>2017-01-01</td>\n",
       "      <td>99.0</td>\n",
       "      <td>6.0</td>\n",
       "      <td>Rain</td>\n",
       "    </tr>\n",
       "    <tr>\n",
       "      <th>1</th>\n",
       "      <td>2017-01-02</td>\n",
       "      <td>NaN</td>\n",
       "      <td>99.0</td>\n",
       "      <td>Sunny</td>\n",
       "    </tr>\n",
       "    <tr>\n",
       "      <th>2</th>\n",
       "      <td>2017-01-03</td>\n",
       "      <td>28.0</td>\n",
       "      <td>NaN</td>\n",
       "      <td>Snow</td>\n",
       "    </tr>\n",
       "    <tr>\n",
       "      <th>3</th>\n",
       "      <td>2017-01-04</td>\n",
       "      <td>NaN</td>\n",
       "      <td>99.0</td>\n",
       "      <td>0</td>\n",
       "    </tr>\n",
       "    <tr>\n",
       "      <th>4</th>\n",
       "      <td>2017-01-05</td>\n",
       "      <td>99.0</td>\n",
       "      <td>NaN</td>\n",
       "      <td>Rain</td>\n",
       "    </tr>\n",
       "    <tr>\n",
       "      <th>5</th>\n",
       "      <td>2017-01-06</td>\n",
       "      <td>31.0</td>\n",
       "      <td>2.0</td>\n",
       "      <td>Sunny</td>\n",
       "    </tr>\n",
       "    <tr>\n",
       "      <th>6</th>\n",
       "      <td>2017-01-06</td>\n",
       "      <td>34.0</td>\n",
       "      <td>5.0</td>\n",
       "      <td>0</td>\n",
       "    </tr>\n",
       "    <tr>\n",
       "      <th>7</th>\n",
       "      <td>2017-01-07</td>\n",
       "      <td>38.0</td>\n",
       "      <td>99.0</td>\n",
       "      <td>Rain</td>\n",
       "    </tr>\n",
       "  </tbody>\n",
       "</table>\n",
       "</div>"
      ],
      "text/plain": [
       "         DAY  TEMPARATURE  WINDSPEED   EVEN\n",
       "0 2017-01-01         99.0        6.0   Rain\n",
       "1 2017-01-02          NaN       99.0  Sunny\n",
       "2 2017-01-03         28.0        NaN   Snow\n",
       "3 2017-01-04          NaN       99.0      0\n",
       "4 2017-01-05         99.0        NaN   Rain\n",
       "5 2017-01-06         31.0        2.0  Sunny\n",
       "6 2017-01-06         34.0        5.0      0\n",
       "7 2017-01-07         38.0       99.0   Rain"
      ]
     },
     "execution_count": 65,
     "metadata": {},
     "output_type": "execute_result"
    }
   ],
   "source": [
    "df"
   ]
  },
  {
   "cell_type": "markdown",
   "id": "daaab74e",
   "metadata": {},
   "source": [
    "### Replaceing per column"
   ]
  },
  {
   "cell_type": "code",
   "execution_count": 66,
   "id": "7883d278",
   "metadata": {},
   "outputs": [],
   "source": [
    "df=df.replace({'TEMPARATURE':99,\"WINDSPEED\":np.NaN},100)"
   ]
  },
  {
   "cell_type": "code",
   "execution_count": 67,
   "id": "ee5deff3",
   "metadata": {
    "scrolled": true
   },
   "outputs": [
    {
     "data": {
      "text/html": [
       "<div>\n",
       "<style scoped>\n",
       "    .dataframe tbody tr th:only-of-type {\n",
       "        vertical-align: middle;\n",
       "    }\n",
       "\n",
       "    .dataframe tbody tr th {\n",
       "        vertical-align: top;\n",
       "    }\n",
       "\n",
       "    .dataframe thead th {\n",
       "        text-align: right;\n",
       "    }\n",
       "</style>\n",
       "<table border=\"1\" class=\"dataframe\">\n",
       "  <thead>\n",
       "    <tr style=\"text-align: right;\">\n",
       "      <th></th>\n",
       "      <th>DAY</th>\n",
       "      <th>TEMPARATURE</th>\n",
       "      <th>WINDSPEED</th>\n",
       "      <th>EVEN</th>\n",
       "    </tr>\n",
       "  </thead>\n",
       "  <tbody>\n",
       "    <tr>\n",
       "      <th>0</th>\n",
       "      <td>2017-01-01</td>\n",
       "      <td>100.0</td>\n",
       "      <td>6.0</td>\n",
       "      <td>Rain</td>\n",
       "    </tr>\n",
       "    <tr>\n",
       "      <th>1</th>\n",
       "      <td>2017-01-02</td>\n",
       "      <td>NaN</td>\n",
       "      <td>99.0</td>\n",
       "      <td>Sunny</td>\n",
       "    </tr>\n",
       "    <tr>\n",
       "      <th>2</th>\n",
       "      <td>2017-01-03</td>\n",
       "      <td>28.0</td>\n",
       "      <td>100.0</td>\n",
       "      <td>Snow</td>\n",
       "    </tr>\n",
       "    <tr>\n",
       "      <th>3</th>\n",
       "      <td>2017-01-04</td>\n",
       "      <td>NaN</td>\n",
       "      <td>99.0</td>\n",
       "      <td>0</td>\n",
       "    </tr>\n",
       "    <tr>\n",
       "      <th>4</th>\n",
       "      <td>2017-01-05</td>\n",
       "      <td>100.0</td>\n",
       "      <td>100.0</td>\n",
       "      <td>Rain</td>\n",
       "    </tr>\n",
       "    <tr>\n",
       "      <th>5</th>\n",
       "      <td>2017-01-06</td>\n",
       "      <td>31.0</td>\n",
       "      <td>2.0</td>\n",
       "      <td>Sunny</td>\n",
       "    </tr>\n",
       "    <tr>\n",
       "      <th>6</th>\n",
       "      <td>2017-01-06</td>\n",
       "      <td>34.0</td>\n",
       "      <td>5.0</td>\n",
       "      <td>0</td>\n",
       "    </tr>\n",
       "    <tr>\n",
       "      <th>7</th>\n",
       "      <td>2017-01-07</td>\n",
       "      <td>38.0</td>\n",
       "      <td>99.0</td>\n",
       "      <td>Rain</td>\n",
       "    </tr>\n",
       "  </tbody>\n",
       "</table>\n",
       "</div>"
      ],
      "text/plain": [
       "         DAY  TEMPARATURE  WINDSPEED   EVEN\n",
       "0 2017-01-01        100.0        6.0   Rain\n",
       "1 2017-01-02          NaN       99.0  Sunny\n",
       "2 2017-01-03         28.0      100.0   Snow\n",
       "3 2017-01-04          NaN       99.0      0\n",
       "4 2017-01-05        100.0      100.0   Rain\n",
       "5 2017-01-06         31.0        2.0  Sunny\n",
       "6 2017-01-06         34.0        5.0      0\n",
       "7 2017-01-07         38.0       99.0   Rain"
      ]
     },
     "execution_count": 67,
     "metadata": {},
     "output_type": "execute_result"
    }
   ],
   "source": [
    "df"
   ]
  },
  {
   "cell_type": "markdown",
   "id": "2bb62e1d",
   "metadata": {},
   "source": [
    "### Replaceing all columns with another value"
   ]
  },
  {
   "cell_type": "code",
   "execution_count": 68,
   "id": "b1ae4150",
   "metadata": {},
   "outputs": [],
   "source": [
    "df=df.replace([6.0,99.0,100.0,99.0,100.0,2.0,5.0,99.0],['6 kms','99 kms','100 kms','99 kms','100 kms','2 kms','5 kms','99 kms'])"
   ]
  },
  {
   "cell_type": "code",
   "execution_count": 69,
   "id": "fb371291",
   "metadata": {
    "scrolled": true
   },
   "outputs": [
    {
     "data": {
      "text/html": [
       "<div>\n",
       "<style scoped>\n",
       "    .dataframe tbody tr th:only-of-type {\n",
       "        vertical-align: middle;\n",
       "    }\n",
       "\n",
       "    .dataframe tbody tr th {\n",
       "        vertical-align: top;\n",
       "    }\n",
       "\n",
       "    .dataframe thead th {\n",
       "        text-align: right;\n",
       "    }\n",
       "</style>\n",
       "<table border=\"1\" class=\"dataframe\">\n",
       "  <thead>\n",
       "    <tr style=\"text-align: right;\">\n",
       "      <th></th>\n",
       "      <th>DAY</th>\n",
       "      <th>TEMPARATURE</th>\n",
       "      <th>WINDSPEED</th>\n",
       "      <th>EVEN</th>\n",
       "    </tr>\n",
       "  </thead>\n",
       "  <tbody>\n",
       "    <tr>\n",
       "      <th>0</th>\n",
       "      <td>2017-01-01</td>\n",
       "      <td>100 kms</td>\n",
       "      <td>6 kms</td>\n",
       "      <td>Rain</td>\n",
       "    </tr>\n",
       "    <tr>\n",
       "      <th>1</th>\n",
       "      <td>2017-01-02</td>\n",
       "      <td>NaN</td>\n",
       "      <td>99 kms</td>\n",
       "      <td>Sunny</td>\n",
       "    </tr>\n",
       "    <tr>\n",
       "      <th>2</th>\n",
       "      <td>2017-01-03</td>\n",
       "      <td>28.0</td>\n",
       "      <td>100 kms</td>\n",
       "      <td>Snow</td>\n",
       "    </tr>\n",
       "    <tr>\n",
       "      <th>3</th>\n",
       "      <td>2017-01-04</td>\n",
       "      <td>NaN</td>\n",
       "      <td>99 kms</td>\n",
       "      <td>0</td>\n",
       "    </tr>\n",
       "    <tr>\n",
       "      <th>4</th>\n",
       "      <td>2017-01-05</td>\n",
       "      <td>100 kms</td>\n",
       "      <td>100 kms</td>\n",
       "      <td>Rain</td>\n",
       "    </tr>\n",
       "    <tr>\n",
       "      <th>5</th>\n",
       "      <td>2017-01-06</td>\n",
       "      <td>31.0</td>\n",
       "      <td>2 kms</td>\n",
       "      <td>Sunny</td>\n",
       "    </tr>\n",
       "    <tr>\n",
       "      <th>6</th>\n",
       "      <td>2017-01-06</td>\n",
       "      <td>34.0</td>\n",
       "      <td>5 kms</td>\n",
       "      <td>0</td>\n",
       "    </tr>\n",
       "    <tr>\n",
       "      <th>7</th>\n",
       "      <td>2017-01-07</td>\n",
       "      <td>38.0</td>\n",
       "      <td>99 kms</td>\n",
       "      <td>Rain</td>\n",
       "    </tr>\n",
       "  </tbody>\n",
       "</table>\n",
       "</div>"
      ],
      "text/plain": [
       "         DAY TEMPARATURE WINDSPEED   EVEN\n",
       "0 2017-01-01     100 kms     6 kms   Rain\n",
       "1 2017-01-02         NaN    99 kms  Sunny\n",
       "2 2017-01-03        28.0   100 kms   Snow\n",
       "3 2017-01-04         NaN    99 kms      0\n",
       "4 2017-01-05     100 kms   100 kms   Rain\n",
       "5 2017-01-06        31.0     2 kms  Sunny\n",
       "6 2017-01-06        34.0     5 kms      0\n",
       "7 2017-01-07        38.0    99 kms   Rain"
      ]
     },
     "execution_count": 69,
     "metadata": {},
     "output_type": "execute_result"
    }
   ],
   "source": [
    "df"
   ]
  },
  {
   "cell_type": "markdown",
   "id": "344f6fd8",
   "metadata": {},
   "source": [
    "### Remove mph from windspeed & F from Temperature"
   ]
  },
  {
   "cell_type": "code",
   "execution_count": 70,
   "id": "f956aa7e",
   "metadata": {},
   "outputs": [],
   "source": [
    "df=df.replace({'TEMPARATURE':'[A-Za-z]','WINDSPEED':'[A-Za-z]'},' ', regex=True)"
   ]
  },
  {
   "cell_type": "code",
   "execution_count": 71,
   "id": "cfc38da5",
   "metadata": {},
   "outputs": [
    {
     "data": {
      "text/html": [
       "<div>\n",
       "<style scoped>\n",
       "    .dataframe tbody tr th:only-of-type {\n",
       "        vertical-align: middle;\n",
       "    }\n",
       "\n",
       "    .dataframe tbody tr th {\n",
       "        vertical-align: top;\n",
       "    }\n",
       "\n",
       "    .dataframe thead th {\n",
       "        text-align: right;\n",
       "    }\n",
       "</style>\n",
       "<table border=\"1\" class=\"dataframe\">\n",
       "  <thead>\n",
       "    <tr style=\"text-align: right;\">\n",
       "      <th></th>\n",
       "      <th>DAY</th>\n",
       "      <th>TEMPARATURE</th>\n",
       "      <th>WINDSPEED</th>\n",
       "      <th>EVEN</th>\n",
       "    </tr>\n",
       "  </thead>\n",
       "  <tbody>\n",
       "    <tr>\n",
       "      <th>0</th>\n",
       "      <td>2017-01-01</td>\n",
       "      <td>100</td>\n",
       "      <td>6</td>\n",
       "      <td>Rain</td>\n",
       "    </tr>\n",
       "    <tr>\n",
       "      <th>1</th>\n",
       "      <td>2017-01-02</td>\n",
       "      <td>NaN</td>\n",
       "      <td>99</td>\n",
       "      <td>Sunny</td>\n",
       "    </tr>\n",
       "    <tr>\n",
       "      <th>2</th>\n",
       "      <td>2017-01-03</td>\n",
       "      <td>28.0</td>\n",
       "      <td>100</td>\n",
       "      <td>Snow</td>\n",
       "    </tr>\n",
       "    <tr>\n",
       "      <th>3</th>\n",
       "      <td>2017-01-04</td>\n",
       "      <td>NaN</td>\n",
       "      <td>99</td>\n",
       "      <td>0</td>\n",
       "    </tr>\n",
       "    <tr>\n",
       "      <th>4</th>\n",
       "      <td>2017-01-05</td>\n",
       "      <td>100</td>\n",
       "      <td>100</td>\n",
       "      <td>Rain</td>\n",
       "    </tr>\n",
       "    <tr>\n",
       "      <th>5</th>\n",
       "      <td>2017-01-06</td>\n",
       "      <td>31.0</td>\n",
       "      <td>2</td>\n",
       "      <td>Sunny</td>\n",
       "    </tr>\n",
       "    <tr>\n",
       "      <th>6</th>\n",
       "      <td>2017-01-06</td>\n",
       "      <td>34.0</td>\n",
       "      <td>5</td>\n",
       "      <td>0</td>\n",
       "    </tr>\n",
       "    <tr>\n",
       "      <th>7</th>\n",
       "      <td>2017-01-07</td>\n",
       "      <td>38.0</td>\n",
       "      <td>99</td>\n",
       "      <td>Rain</td>\n",
       "    </tr>\n",
       "  </tbody>\n",
       "</table>\n",
       "</div>"
      ],
      "text/plain": [
       "         DAY TEMPARATURE WINDSPEED   EVEN\n",
       "0 2017-01-01     100         6       Rain\n",
       "1 2017-01-02         NaN    99      Sunny\n",
       "2 2017-01-03        28.0   100       Snow\n",
       "3 2017-01-04         NaN    99          0\n",
       "4 2017-01-05     100       100       Rain\n",
       "5 2017-01-06        31.0     2      Sunny\n",
       "6 2017-01-06        34.0     5          0\n",
       "7 2017-01-07        38.0    99       Rain"
      ]
     },
     "execution_count": 71,
     "metadata": {},
     "output_type": "execute_result"
    }
   ],
   "source": [
    "df"
   ]
  },
  {
   "cell_type": "markdown",
   "id": "3f24ae29",
   "metadata": {},
   "source": [
    "### Replaceing using mapping"
   ]
  },
  {
   "cell_type": "code",
   "execution_count": 72,
   "id": "4f6d4982",
   "metadata": {},
   "outputs": [],
   "source": [
    "df=df.replace({np.NaN:69,0:'Sunny'})"
   ]
  },
  {
   "cell_type": "code",
   "execution_count": 73,
   "id": "a0efc182",
   "metadata": {},
   "outputs": [
    {
     "data": {
      "text/html": [
       "<div>\n",
       "<style scoped>\n",
       "    .dataframe tbody tr th:only-of-type {\n",
       "        vertical-align: middle;\n",
       "    }\n",
       "\n",
       "    .dataframe tbody tr th {\n",
       "        vertical-align: top;\n",
       "    }\n",
       "\n",
       "    .dataframe thead th {\n",
       "        text-align: right;\n",
       "    }\n",
       "</style>\n",
       "<table border=\"1\" class=\"dataframe\">\n",
       "  <thead>\n",
       "    <tr style=\"text-align: right;\">\n",
       "      <th></th>\n",
       "      <th>DAY</th>\n",
       "      <th>TEMPARATURE</th>\n",
       "      <th>WINDSPEED</th>\n",
       "      <th>EVEN</th>\n",
       "    </tr>\n",
       "  </thead>\n",
       "  <tbody>\n",
       "    <tr>\n",
       "      <th>0</th>\n",
       "      <td>2017-01-01</td>\n",
       "      <td>100</td>\n",
       "      <td>6</td>\n",
       "      <td>Rain</td>\n",
       "    </tr>\n",
       "    <tr>\n",
       "      <th>1</th>\n",
       "      <td>2017-01-02</td>\n",
       "      <td>69</td>\n",
       "      <td>99</td>\n",
       "      <td>Sunny</td>\n",
       "    </tr>\n",
       "    <tr>\n",
       "      <th>2</th>\n",
       "      <td>2017-01-03</td>\n",
       "      <td>28.0</td>\n",
       "      <td>100</td>\n",
       "      <td>Snow</td>\n",
       "    </tr>\n",
       "    <tr>\n",
       "      <th>3</th>\n",
       "      <td>2017-01-04</td>\n",
       "      <td>69</td>\n",
       "      <td>99</td>\n",
       "      <td>Sunny</td>\n",
       "    </tr>\n",
       "    <tr>\n",
       "      <th>4</th>\n",
       "      <td>2017-01-05</td>\n",
       "      <td>100</td>\n",
       "      <td>100</td>\n",
       "      <td>Rain</td>\n",
       "    </tr>\n",
       "    <tr>\n",
       "      <th>5</th>\n",
       "      <td>2017-01-06</td>\n",
       "      <td>31.0</td>\n",
       "      <td>2</td>\n",
       "      <td>Sunny</td>\n",
       "    </tr>\n",
       "    <tr>\n",
       "      <th>6</th>\n",
       "      <td>2017-01-06</td>\n",
       "      <td>34.0</td>\n",
       "      <td>5</td>\n",
       "      <td>Sunny</td>\n",
       "    </tr>\n",
       "    <tr>\n",
       "      <th>7</th>\n",
       "      <td>2017-01-07</td>\n",
       "      <td>38.0</td>\n",
       "      <td>99</td>\n",
       "      <td>Rain</td>\n",
       "    </tr>\n",
       "  </tbody>\n",
       "</table>\n",
       "</div>"
      ],
      "text/plain": [
       "         DAY TEMPARATURE WINDSPEED   EVEN\n",
       "0 2017-01-01     100         6       Rain\n",
       "1 2017-01-02          69    99      Sunny\n",
       "2 2017-01-03        28.0   100       Snow\n",
       "3 2017-01-04          69    99      Sunny\n",
       "4 2017-01-05     100       100       Rain\n",
       "5 2017-01-06        31.0     2      Sunny\n",
       "6 2017-01-06        34.0     5      Sunny\n",
       "7 2017-01-07        38.0    99       Rain"
      ]
     },
     "execution_count": 73,
     "metadata": {},
     "output_type": "execute_result"
    }
   ],
   "source": [
    "df"
   ]
  },
  {
   "cell_type": "markdown",
   "id": "2e6753fd",
   "metadata": {},
   "source": [
    "# project Advanced data cleaning using Pandas "
   ]
  },
  {
   "cell_type": "code",
   "execution_count": 74,
   "id": "b7f663b1",
   "metadata": {},
   "outputs": [],
   "source": [
    "import pandas as pd"
   ]
  },
  {
   "cell_type": "code",
   "execution_count": 75,
   "id": "1121a27c",
   "metadata": {},
   "outputs": [],
   "source": [
    "import numpy as np"
   ]
  },
  {
   "cell_type": "code",
   "execution_count": 76,
   "id": "3bce9acc",
   "metadata": {},
   "outputs": [],
   "source": [
    "data=pd.read_csv(\"Melbourne_housing_FULL.csv\")\n",
    "OriData=data"
   ]
  },
  {
   "cell_type": "code",
   "execution_count": 77,
   "id": "29a3eb00",
   "metadata": {},
   "outputs": [
    {
     "data": {
      "text/plain": [
       "(34857, 21)"
      ]
     },
     "execution_count": 77,
     "metadata": {},
     "output_type": "execute_result"
    }
   ],
   "source": [
    "data.shape"
   ]
  },
  {
   "cell_type": "code",
   "execution_count": 78,
   "id": "4982122e",
   "metadata": {},
   "outputs": [
    {
     "name": "stdout",
     "output_type": "stream",
     "text": [
      "<class 'pandas.core.frame.DataFrame'>\n",
      "RangeIndex: 34857 entries, 0 to 34856\n",
      "Data columns (total 21 columns):\n",
      " #   Column         Non-Null Count  Dtype  \n",
      "---  ------         --------------  -----  \n",
      " 0   Suburb         34857 non-null  object \n",
      " 1   Address        34857 non-null  object \n",
      " 2   Rooms          34857 non-null  int64  \n",
      " 3   Type           34857 non-null  object \n",
      " 4   Price          27247 non-null  float64\n",
      " 5   Method         34857 non-null  object \n",
      " 6   SellerG        34857 non-null  object \n",
      " 7   Date           34857 non-null  object \n",
      " 8   Distance       34856 non-null  float64\n",
      " 9   Postcode       34856 non-null  float64\n",
      " 10  Bedroom2       26640 non-null  float64\n",
      " 11  Bathroom       26631 non-null  float64\n",
      " 12  Car            26129 non-null  float64\n",
      " 13  Landsize       23047 non-null  float64\n",
      " 14  BuildingArea   13742 non-null  float64\n",
      " 15  YearBuilt      15551 non-null  float64\n",
      " 16  CouncilArea    34854 non-null  object \n",
      " 17  Lattitude      26881 non-null  float64\n",
      " 18  Longtitude     26881 non-null  float64\n",
      " 19  Regionname     34854 non-null  object \n",
      " 20  Propertycount  34854 non-null  float64\n",
      "dtypes: float64(12), int64(1), object(8)\n",
      "memory usage: 5.6+ MB\n"
     ]
    }
   ],
   "source": [
    "data.info()"
   ]
  },
  {
   "cell_type": "code",
   "execution_count": 79,
   "id": "d3b1b517",
   "metadata": {},
   "outputs": [
    {
     "data": {
      "text/html": [
       "<div>\n",
       "<style scoped>\n",
       "    .dataframe tbody tr th:only-of-type {\n",
       "        vertical-align: middle;\n",
       "    }\n",
       "\n",
       "    .dataframe tbody tr th {\n",
       "        vertical-align: top;\n",
       "    }\n",
       "\n",
       "    .dataframe thead th {\n",
       "        text-align: right;\n",
       "    }\n",
       "</style>\n",
       "<table border=\"1\" class=\"dataframe\">\n",
       "  <thead>\n",
       "    <tr style=\"text-align: right;\">\n",
       "      <th></th>\n",
       "      <th>Suburb</th>\n",
       "      <th>Address</th>\n",
       "      <th>Rooms</th>\n",
       "      <th>Type</th>\n",
       "      <th>Price</th>\n",
       "      <th>Method</th>\n",
       "      <th>SellerG</th>\n",
       "      <th>Date</th>\n",
       "      <th>Distance</th>\n",
       "      <th>Postcode</th>\n",
       "      <th>...</th>\n",
       "      <th>Bathroom</th>\n",
       "      <th>Car</th>\n",
       "      <th>Landsize</th>\n",
       "      <th>BuildingArea</th>\n",
       "      <th>YearBuilt</th>\n",
       "      <th>CouncilArea</th>\n",
       "      <th>Lattitude</th>\n",
       "      <th>Longtitude</th>\n",
       "      <th>Regionname</th>\n",
       "      <th>Propertycount</th>\n",
       "    </tr>\n",
       "  </thead>\n",
       "  <tbody>\n",
       "    <tr>\n",
       "      <th>0</th>\n",
       "      <td>Abbotsford</td>\n",
       "      <td>68 Studley St</td>\n",
       "      <td>2</td>\n",
       "      <td>h</td>\n",
       "      <td>NaN</td>\n",
       "      <td>SS</td>\n",
       "      <td>Jellis</td>\n",
       "      <td>3/09/2016</td>\n",
       "      <td>2.5</td>\n",
       "      <td>3067.0</td>\n",
       "      <td>...</td>\n",
       "      <td>1.0</td>\n",
       "      <td>1.0</td>\n",
       "      <td>126.0</td>\n",
       "      <td>NaN</td>\n",
       "      <td>NaN</td>\n",
       "      <td>Yarra City Council</td>\n",
       "      <td>-37.8014</td>\n",
       "      <td>144.9958</td>\n",
       "      <td>Northern Metropolitan</td>\n",
       "      <td>4019.0</td>\n",
       "    </tr>\n",
       "    <tr>\n",
       "      <th>1</th>\n",
       "      <td>Abbotsford</td>\n",
       "      <td>85 Turner St</td>\n",
       "      <td>2</td>\n",
       "      <td>h</td>\n",
       "      <td>1480000.0</td>\n",
       "      <td>S</td>\n",
       "      <td>Biggin</td>\n",
       "      <td>3/12/2016</td>\n",
       "      <td>2.5</td>\n",
       "      <td>3067.0</td>\n",
       "      <td>...</td>\n",
       "      <td>1.0</td>\n",
       "      <td>1.0</td>\n",
       "      <td>202.0</td>\n",
       "      <td>NaN</td>\n",
       "      <td>NaN</td>\n",
       "      <td>Yarra City Council</td>\n",
       "      <td>-37.7996</td>\n",
       "      <td>144.9984</td>\n",
       "      <td>Northern Metropolitan</td>\n",
       "      <td>4019.0</td>\n",
       "    </tr>\n",
       "    <tr>\n",
       "      <th>2</th>\n",
       "      <td>Abbotsford</td>\n",
       "      <td>25 Bloomburg St</td>\n",
       "      <td>2</td>\n",
       "      <td>h</td>\n",
       "      <td>1035000.0</td>\n",
       "      <td>S</td>\n",
       "      <td>Biggin</td>\n",
       "      <td>4/02/2016</td>\n",
       "      <td>2.5</td>\n",
       "      <td>3067.0</td>\n",
       "      <td>...</td>\n",
       "      <td>1.0</td>\n",
       "      <td>0.0</td>\n",
       "      <td>156.0</td>\n",
       "      <td>79.0</td>\n",
       "      <td>1900.0</td>\n",
       "      <td>Yarra City Council</td>\n",
       "      <td>-37.8079</td>\n",
       "      <td>144.9934</td>\n",
       "      <td>Northern Metropolitan</td>\n",
       "      <td>4019.0</td>\n",
       "    </tr>\n",
       "    <tr>\n",
       "      <th>3</th>\n",
       "      <td>Abbotsford</td>\n",
       "      <td>18/659 Victoria St</td>\n",
       "      <td>3</td>\n",
       "      <td>u</td>\n",
       "      <td>NaN</td>\n",
       "      <td>VB</td>\n",
       "      <td>Rounds</td>\n",
       "      <td>4/02/2016</td>\n",
       "      <td>2.5</td>\n",
       "      <td>3067.0</td>\n",
       "      <td>...</td>\n",
       "      <td>2.0</td>\n",
       "      <td>1.0</td>\n",
       "      <td>0.0</td>\n",
       "      <td>NaN</td>\n",
       "      <td>NaN</td>\n",
       "      <td>Yarra City Council</td>\n",
       "      <td>-37.8114</td>\n",
       "      <td>145.0116</td>\n",
       "      <td>Northern Metropolitan</td>\n",
       "      <td>4019.0</td>\n",
       "    </tr>\n",
       "    <tr>\n",
       "      <th>4</th>\n",
       "      <td>Abbotsford</td>\n",
       "      <td>5 Charles St</td>\n",
       "      <td>3</td>\n",
       "      <td>h</td>\n",
       "      <td>1465000.0</td>\n",
       "      <td>SP</td>\n",
       "      <td>Biggin</td>\n",
       "      <td>4/03/2017</td>\n",
       "      <td>2.5</td>\n",
       "      <td>3067.0</td>\n",
       "      <td>...</td>\n",
       "      <td>2.0</td>\n",
       "      <td>0.0</td>\n",
       "      <td>134.0</td>\n",
       "      <td>150.0</td>\n",
       "      <td>1900.0</td>\n",
       "      <td>Yarra City Council</td>\n",
       "      <td>-37.8093</td>\n",
       "      <td>144.9944</td>\n",
       "      <td>Northern Metropolitan</td>\n",
       "      <td>4019.0</td>\n",
       "    </tr>\n",
       "  </tbody>\n",
       "</table>\n",
       "<p>5 rows × 21 columns</p>\n",
       "</div>"
      ],
      "text/plain": [
       "       Suburb             Address  Rooms Type      Price Method SellerG  \\\n",
       "0  Abbotsford       68 Studley St      2    h        NaN     SS  Jellis   \n",
       "1  Abbotsford        85 Turner St      2    h  1480000.0      S  Biggin   \n",
       "2  Abbotsford     25 Bloomburg St      2    h  1035000.0      S  Biggin   \n",
       "3  Abbotsford  18/659 Victoria St      3    u        NaN     VB  Rounds   \n",
       "4  Abbotsford        5 Charles St      3    h  1465000.0     SP  Biggin   \n",
       "\n",
       "        Date  Distance  Postcode  ...  Bathroom  Car  Landsize  BuildingArea  \\\n",
       "0  3/09/2016       2.5    3067.0  ...       1.0  1.0     126.0           NaN   \n",
       "1  3/12/2016       2.5    3067.0  ...       1.0  1.0     202.0           NaN   \n",
       "2  4/02/2016       2.5    3067.0  ...       1.0  0.0     156.0          79.0   \n",
       "3  4/02/2016       2.5    3067.0  ...       2.0  1.0       0.0           NaN   \n",
       "4  4/03/2017       2.5    3067.0  ...       2.0  0.0     134.0         150.0   \n",
       "\n",
       "   YearBuilt         CouncilArea Lattitude  Longtitude             Regionname  \\\n",
       "0        NaN  Yarra City Council  -37.8014    144.9958  Northern Metropolitan   \n",
       "1        NaN  Yarra City Council  -37.7996    144.9984  Northern Metropolitan   \n",
       "2     1900.0  Yarra City Council  -37.8079    144.9934  Northern Metropolitan   \n",
       "3        NaN  Yarra City Council  -37.8114    145.0116  Northern Metropolitan   \n",
       "4     1900.0  Yarra City Council  -37.8093    144.9944  Northern Metropolitan   \n",
       "\n",
       "  Propertycount  \n",
       "0        4019.0  \n",
       "1        4019.0  \n",
       "2        4019.0  \n",
       "3        4019.0  \n",
       "4        4019.0  \n",
       "\n",
       "[5 rows x 21 columns]"
      ]
     },
     "execution_count": 79,
     "metadata": {},
     "output_type": "execute_result"
    }
   ],
   "source": [
    "data.head()"
   ]
  },
  {
   "cell_type": "code",
   "execution_count": 80,
   "id": "e723c2a9",
   "metadata": {},
   "outputs": [
    {
     "data": {
      "text/plain": [
       "BuildingArea     21115\n",
       "YearBuilt        19306\n",
       "Landsize         11810\n",
       "Car               8728\n",
       "Bathroom          8226\n",
       "Bedroom2          8217\n",
       "Longtitude        7976\n",
       "Lattitude         7976\n",
       "Price             7610\n",
       "Regionname           3\n",
       "CouncilArea          3\n",
       "Propertycount        3\n",
       "Postcode             1\n",
       "Distance             1\n",
       "Address              0\n",
       "Date                 0\n",
       "SellerG              0\n",
       "Method               0\n",
       "Type                 0\n",
       "Rooms                0\n",
       "Suburb               0\n",
       "dtype: int64"
      ]
     },
     "execution_count": 80,
     "metadata": {},
     "output_type": "execute_result"
    }
   ],
   "source": [
    "data.isnull().sum(axis=0).sort_values(ascending=False)"
   ]
  },
  {
   "cell_type": "code",
   "execution_count": 81,
   "id": "0349c80e",
   "metadata": {},
   "outputs": [
    {
     "data": {
      "text/plain": [
       "29483    13\n",
       "18523    11\n",
       "26888    11\n",
       "32125     9\n",
       "11231     9\n",
       "         ..\n",
       "24737     0\n",
       "24738     0\n",
       "9437      0\n",
       "9435      0\n",
       "34856     0\n",
       "Length: 34857, dtype: int64"
      ]
     },
     "execution_count": 81,
     "metadata": {},
     "output_type": "execute_result"
    }
   ],
   "source": [
    "data.isnull().sum(axis=1).sort_values(ascending=False)"
   ]
  },
  {
   "cell_type": "code",
   "execution_count": 82,
   "id": "d7ee49b4",
   "metadata": {},
   "outputs": [
    {
     "data": {
      "text/plain": [
       "Suburb           False\n",
       "Address          False\n",
       "Rooms            False\n",
       "Type             False\n",
       "Price             True\n",
       "Method           False\n",
       "SellerG          False\n",
       "Date             False\n",
       "Distance          True\n",
       "Postcode          True\n",
       "Bedroom2          True\n",
       "Bathroom          True\n",
       "Car               True\n",
       "Landsize          True\n",
       "BuildingArea      True\n",
       "YearBuilt         True\n",
       "CouncilArea       True\n",
       "Lattitude         True\n",
       "Longtitude        True\n",
       "Regionname        True\n",
       "Propertycount     True\n",
       "dtype: bool"
      ]
     },
     "execution_count": 82,
     "metadata": {},
     "output_type": "execute_result"
    }
   ],
   "source": [
    "data.isnull().sum()>0"
   ]
  },
  {
   "cell_type": "code",
   "execution_count": 83,
   "id": "44427671",
   "metadata": {},
   "outputs": [
    {
     "data": {
      "text/plain": [
       "Bedroom2          True\n",
       "Bathroom          True\n",
       "Regionname        True\n",
       "Longtitude        True\n",
       "Lattitude         True\n",
       "CouncilArea       True\n",
       "YearBuilt         True\n",
       "BuildingArea      True\n",
       "Landsize          True\n",
       "Car               True\n",
       "Propertycount     True\n",
       "Postcode          True\n",
       "Distance          True\n",
       "Price             True\n",
       "Address          False\n",
       "Date             False\n",
       "SellerG          False\n",
       "Method           False\n",
       "Type             False\n",
       "Rooms            False\n",
       "Suburb           False\n",
       "dtype: bool"
      ]
     },
     "execution_count": 83,
     "metadata": {},
     "output_type": "execute_result"
    }
   ],
   "source": [
    "data.isnull().any(axis=0).sort_values(ascending=False)"
   ]
  },
  {
   "cell_type": "code",
   "execution_count": 84,
   "id": "b7db28d4",
   "metadata": {},
   "outputs": [
    {
     "data": {
      "text/plain": [
       "Bedroom2          True\n",
       "Bathroom          True\n",
       "Regionname        True\n",
       "Longtitude        True\n",
       "Lattitude         True\n",
       "CouncilArea       True\n",
       "YearBuilt         True\n",
       "BuildingArea      True\n",
       "Landsize          True\n",
       "Car               True\n",
       "Propertycount     True\n",
       "Postcode          True\n",
       "Distance          True\n",
       "Price             True\n",
       "Address          False\n",
       "Date             False\n",
       "SellerG          False\n",
       "Method           False\n",
       "Type             False\n",
       "Rooms            False\n",
       "Suburb           False\n",
       "dtype: bool"
      ]
     },
     "execution_count": 84,
     "metadata": {},
     "output_type": "execute_result"
    }
   ],
   "source": [
    "data.isnull().any().sort_values(ascending=False)"
   ]
  },
  {
   "cell_type": "code",
   "execution_count": 85,
   "id": "df6f370e",
   "metadata": {},
   "outputs": [
    {
     "data": {
      "text/plain": [
       "Index(['Price', 'Distance', 'Postcode', 'Bedroom2', 'Bathroom', 'Car',\n",
       "       'Landsize', 'BuildingArea', 'YearBuilt', 'CouncilArea', 'Lattitude',\n",
       "       'Longtitude', 'Regionname', 'Propertycount'],\n",
       "      dtype='object')"
      ]
     },
     "execution_count": 85,
     "metadata": {},
     "output_type": "execute_result"
    }
   ],
   "source": [
    "data.isnull().any().index[data.isnull().any().values]"
   ]
  },
  {
   "cell_type": "code",
   "execution_count": 86,
   "id": "3cc140dd",
   "metadata": {},
   "outputs": [
    {
     "data": {
      "text/html": [
       "<div>\n",
       "<style scoped>\n",
       "    .dataframe tbody tr th:only-of-type {\n",
       "        vertical-align: middle;\n",
       "    }\n",
       "\n",
       "    .dataframe tbody tr th {\n",
       "        vertical-align: top;\n",
       "    }\n",
       "\n",
       "    .dataframe thead th {\n",
       "        text-align: right;\n",
       "    }\n",
       "</style>\n",
       "<table border=\"1\" class=\"dataframe\">\n",
       "  <thead>\n",
       "    <tr style=\"text-align: right;\">\n",
       "      <th></th>\n",
       "      <th>Suburb</th>\n",
       "      <th>Address</th>\n",
       "      <th>Rooms</th>\n",
       "      <th>Type</th>\n",
       "      <th>Price</th>\n",
       "      <th>Method</th>\n",
       "      <th>SellerG</th>\n",
       "      <th>Date</th>\n",
       "      <th>Distance</th>\n",
       "      <th>Postcode</th>\n",
       "      <th>...</th>\n",
       "      <th>Bathroom</th>\n",
       "      <th>Car</th>\n",
       "      <th>Landsize</th>\n",
       "      <th>BuildingArea</th>\n",
       "      <th>YearBuilt</th>\n",
       "      <th>CouncilArea</th>\n",
       "      <th>Lattitude</th>\n",
       "      <th>Longtitude</th>\n",
       "      <th>Regionname</th>\n",
       "      <th>Propertycount</th>\n",
       "    </tr>\n",
       "  </thead>\n",
       "  <tbody>\n",
       "    <tr>\n",
       "      <th>0</th>\n",
       "      <td>Abbotsford</td>\n",
       "      <td>68 Studley St</td>\n",
       "      <td>2</td>\n",
       "      <td>h</td>\n",
       "      <td>NaN</td>\n",
       "      <td>SS</td>\n",
       "      <td>Jellis</td>\n",
       "      <td>3/09/2016</td>\n",
       "      <td>2.5</td>\n",
       "      <td>3067.0</td>\n",
       "      <td>...</td>\n",
       "      <td>1.0</td>\n",
       "      <td>1.0</td>\n",
       "      <td>126.0</td>\n",
       "      <td>NaN</td>\n",
       "      <td>NaN</td>\n",
       "      <td>Yarra City Council</td>\n",
       "      <td>-37.80140</td>\n",
       "      <td>144.99580</td>\n",
       "      <td>Northern Metropolitan</td>\n",
       "      <td>4019.0</td>\n",
       "    </tr>\n",
       "    <tr>\n",
       "      <th>1</th>\n",
       "      <td>Abbotsford</td>\n",
       "      <td>85 Turner St</td>\n",
       "      <td>2</td>\n",
       "      <td>h</td>\n",
       "      <td>1480000.0</td>\n",
       "      <td>S</td>\n",
       "      <td>Biggin</td>\n",
       "      <td>3/12/2016</td>\n",
       "      <td>2.5</td>\n",
       "      <td>3067.0</td>\n",
       "      <td>...</td>\n",
       "      <td>1.0</td>\n",
       "      <td>1.0</td>\n",
       "      <td>202.0</td>\n",
       "      <td>NaN</td>\n",
       "      <td>NaN</td>\n",
       "      <td>Yarra City Council</td>\n",
       "      <td>-37.79960</td>\n",
       "      <td>144.99840</td>\n",
       "      <td>Northern Metropolitan</td>\n",
       "      <td>4019.0</td>\n",
       "    </tr>\n",
       "    <tr>\n",
       "      <th>3</th>\n",
       "      <td>Abbotsford</td>\n",
       "      <td>18/659 Victoria St</td>\n",
       "      <td>3</td>\n",
       "      <td>u</td>\n",
       "      <td>NaN</td>\n",
       "      <td>VB</td>\n",
       "      <td>Rounds</td>\n",
       "      <td>4/02/2016</td>\n",
       "      <td>2.5</td>\n",
       "      <td>3067.0</td>\n",
       "      <td>...</td>\n",
       "      <td>2.0</td>\n",
       "      <td>1.0</td>\n",
       "      <td>0.0</td>\n",
       "      <td>NaN</td>\n",
       "      <td>NaN</td>\n",
       "      <td>Yarra City Council</td>\n",
       "      <td>-37.81140</td>\n",
       "      <td>145.01160</td>\n",
       "      <td>Northern Metropolitan</td>\n",
       "      <td>4019.0</td>\n",
       "    </tr>\n",
       "    <tr>\n",
       "      <th>5</th>\n",
       "      <td>Abbotsford</td>\n",
       "      <td>40 Federation La</td>\n",
       "      <td>3</td>\n",
       "      <td>h</td>\n",
       "      <td>850000.0</td>\n",
       "      <td>PI</td>\n",
       "      <td>Biggin</td>\n",
       "      <td>4/03/2017</td>\n",
       "      <td>2.5</td>\n",
       "      <td>3067.0</td>\n",
       "      <td>...</td>\n",
       "      <td>2.0</td>\n",
       "      <td>1.0</td>\n",
       "      <td>94.0</td>\n",
       "      <td>NaN</td>\n",
       "      <td>NaN</td>\n",
       "      <td>Yarra City Council</td>\n",
       "      <td>-37.79690</td>\n",
       "      <td>144.99690</td>\n",
       "      <td>Northern Metropolitan</td>\n",
       "      <td>4019.0</td>\n",
       "    </tr>\n",
       "    <tr>\n",
       "      <th>7</th>\n",
       "      <td>Abbotsford</td>\n",
       "      <td>16 Maugie St</td>\n",
       "      <td>4</td>\n",
       "      <td>h</td>\n",
       "      <td>NaN</td>\n",
       "      <td>SN</td>\n",
       "      <td>Nelson</td>\n",
       "      <td>6/08/2016</td>\n",
       "      <td>2.5</td>\n",
       "      <td>3067.0</td>\n",
       "      <td>...</td>\n",
       "      <td>2.0</td>\n",
       "      <td>2.0</td>\n",
       "      <td>400.0</td>\n",
       "      <td>220.0</td>\n",
       "      <td>2006.0</td>\n",
       "      <td>Yarra City Council</td>\n",
       "      <td>-37.79650</td>\n",
       "      <td>144.99650</td>\n",
       "      <td>Northern Metropolitan</td>\n",
       "      <td>4019.0</td>\n",
       "    </tr>\n",
       "    <tr>\n",
       "      <th>...</th>\n",
       "      <td>...</td>\n",
       "      <td>...</td>\n",
       "      <td>...</td>\n",
       "      <td>...</td>\n",
       "      <td>...</td>\n",
       "      <td>...</td>\n",
       "      <td>...</td>\n",
       "      <td>...</td>\n",
       "      <td>...</td>\n",
       "      <td>...</td>\n",
       "      <td>...</td>\n",
       "      <td>...</td>\n",
       "      <td>...</td>\n",
       "      <td>...</td>\n",
       "      <td>...</td>\n",
       "      <td>...</td>\n",
       "      <td>...</td>\n",
       "      <td>...</td>\n",
       "      <td>...</td>\n",
       "      <td>...</td>\n",
       "      <td>...</td>\n",
       "    </tr>\n",
       "    <tr>\n",
       "      <th>34848</th>\n",
       "      <td>Wollert</td>\n",
       "      <td>16 Gunther Wy</td>\n",
       "      <td>4</td>\n",
       "      <td>h</td>\n",
       "      <td>621000.0</td>\n",
       "      <td>S</td>\n",
       "      <td>hockingstuart</td>\n",
       "      <td>24/02/2018</td>\n",
       "      <td>25.5</td>\n",
       "      <td>3750.0</td>\n",
       "      <td>...</td>\n",
       "      <td>2.0</td>\n",
       "      <td>2.0</td>\n",
       "      <td>375.0</td>\n",
       "      <td>NaN</td>\n",
       "      <td>NaN</td>\n",
       "      <td>Whittlesea City Council</td>\n",
       "      <td>-37.61331</td>\n",
       "      <td>145.03412</td>\n",
       "      <td>Northern Metropolitan</td>\n",
       "      <td>2940.0</td>\n",
       "    </tr>\n",
       "    <tr>\n",
       "      <th>34850</th>\n",
       "      <td>Wollert</td>\n",
       "      <td>15 Rockgarden Wy</td>\n",
       "      <td>3</td>\n",
       "      <td>h</td>\n",
       "      <td>NaN</td>\n",
       "      <td>SP</td>\n",
       "      <td>LJ</td>\n",
       "      <td>24/02/2018</td>\n",
       "      <td>25.5</td>\n",
       "      <td>3750.0</td>\n",
       "      <td>...</td>\n",
       "      <td>2.0</td>\n",
       "      <td>2.0</td>\n",
       "      <td>268.0</td>\n",
       "      <td>135.0</td>\n",
       "      <td>2016.0</td>\n",
       "      <td>Whittlesea City Council</td>\n",
       "      <td>-37.61094</td>\n",
       "      <td>145.04281</td>\n",
       "      <td>Northern Metropolitan</td>\n",
       "      <td>2940.0</td>\n",
       "    </tr>\n",
       "    <tr>\n",
       "      <th>34851</th>\n",
       "      <td>Yarraville</td>\n",
       "      <td>78 Bayview Rd</td>\n",
       "      <td>3</td>\n",
       "      <td>h</td>\n",
       "      <td>1101000.0</td>\n",
       "      <td>S</td>\n",
       "      <td>Jas</td>\n",
       "      <td>24/02/2018</td>\n",
       "      <td>6.3</td>\n",
       "      <td>3013.0</td>\n",
       "      <td>...</td>\n",
       "      <td>1.0</td>\n",
       "      <td>NaN</td>\n",
       "      <td>288.0</td>\n",
       "      <td>NaN</td>\n",
       "      <td>NaN</td>\n",
       "      <td>Maribyrnong City Council</td>\n",
       "      <td>-37.81095</td>\n",
       "      <td>144.88516</td>\n",
       "      <td>Western Metropolitan</td>\n",
       "      <td>6543.0</td>\n",
       "    </tr>\n",
       "    <tr>\n",
       "      <th>34852</th>\n",
       "      <td>Yarraville</td>\n",
       "      <td>13 Burns St</td>\n",
       "      <td>4</td>\n",
       "      <td>h</td>\n",
       "      <td>1480000.0</td>\n",
       "      <td>PI</td>\n",
       "      <td>Jas</td>\n",
       "      <td>24/02/2018</td>\n",
       "      <td>6.3</td>\n",
       "      <td>3013.0</td>\n",
       "      <td>...</td>\n",
       "      <td>1.0</td>\n",
       "      <td>3.0</td>\n",
       "      <td>593.0</td>\n",
       "      <td>NaN</td>\n",
       "      <td>NaN</td>\n",
       "      <td>Maribyrnong City Council</td>\n",
       "      <td>-37.81053</td>\n",
       "      <td>144.88467</td>\n",
       "      <td>Western Metropolitan</td>\n",
       "      <td>6543.0</td>\n",
       "    </tr>\n",
       "    <tr>\n",
       "      <th>34855</th>\n",
       "      <td>Yarraville</td>\n",
       "      <td>12/37 Stephen St</td>\n",
       "      <td>3</td>\n",
       "      <td>h</td>\n",
       "      <td>1140000.0</td>\n",
       "      <td>SP</td>\n",
       "      <td>hockingstuart</td>\n",
       "      <td>24/02/2018</td>\n",
       "      <td>6.3</td>\n",
       "      <td>3013.0</td>\n",
       "      <td>...</td>\n",
       "      <td>NaN</td>\n",
       "      <td>NaN</td>\n",
       "      <td>NaN</td>\n",
       "      <td>NaN</td>\n",
       "      <td>NaN</td>\n",
       "      <td>Maribyrnong City Council</td>\n",
       "      <td>NaN</td>\n",
       "      <td>NaN</td>\n",
       "      <td>Western Metropolitan</td>\n",
       "      <td>6543.0</td>\n",
       "    </tr>\n",
       "  </tbody>\n",
       "</table>\n",
       "<p>25970 rows × 21 columns</p>\n",
       "</div>"
      ],
      "text/plain": [
       "           Suburb             Address  Rooms Type      Price Method  \\\n",
       "0      Abbotsford       68 Studley St      2    h        NaN     SS   \n",
       "1      Abbotsford        85 Turner St      2    h  1480000.0      S   \n",
       "3      Abbotsford  18/659 Victoria St      3    u        NaN     VB   \n",
       "5      Abbotsford    40 Federation La      3    h   850000.0     PI   \n",
       "7      Abbotsford        16 Maugie St      4    h        NaN     SN   \n",
       "...           ...                 ...    ...  ...        ...    ...   \n",
       "34848     Wollert       16 Gunther Wy      4    h   621000.0      S   \n",
       "34850     Wollert    15 Rockgarden Wy      3    h        NaN     SP   \n",
       "34851  Yarraville       78 Bayview Rd      3    h  1101000.0      S   \n",
       "34852  Yarraville         13 Burns St      4    h  1480000.0     PI   \n",
       "34855  Yarraville    12/37 Stephen St      3    h  1140000.0     SP   \n",
       "\n",
       "             SellerG        Date  Distance  Postcode  ...  Bathroom  Car  \\\n",
       "0             Jellis   3/09/2016       2.5    3067.0  ...       1.0  1.0   \n",
       "1             Biggin   3/12/2016       2.5    3067.0  ...       1.0  1.0   \n",
       "3             Rounds   4/02/2016       2.5    3067.0  ...       2.0  1.0   \n",
       "5             Biggin   4/03/2017       2.5    3067.0  ...       2.0  1.0   \n",
       "7             Nelson   6/08/2016       2.5    3067.0  ...       2.0  2.0   \n",
       "...              ...         ...       ...       ...  ...       ...  ...   \n",
       "34848  hockingstuart  24/02/2018      25.5    3750.0  ...       2.0  2.0   \n",
       "34850             LJ  24/02/2018      25.5    3750.0  ...       2.0  2.0   \n",
       "34851            Jas  24/02/2018       6.3    3013.0  ...       1.0  NaN   \n",
       "34852            Jas  24/02/2018       6.3    3013.0  ...       1.0  3.0   \n",
       "34855  hockingstuart  24/02/2018       6.3    3013.0  ...       NaN  NaN   \n",
       "\n",
       "       Landsize  BuildingArea  YearBuilt               CouncilArea Lattitude  \\\n",
       "0         126.0           NaN        NaN        Yarra City Council -37.80140   \n",
       "1         202.0           NaN        NaN        Yarra City Council -37.79960   \n",
       "3           0.0           NaN        NaN        Yarra City Council -37.81140   \n",
       "5          94.0           NaN        NaN        Yarra City Council -37.79690   \n",
       "7         400.0         220.0     2006.0        Yarra City Council -37.79650   \n",
       "...         ...           ...        ...                       ...       ...   \n",
       "34848     375.0           NaN        NaN   Whittlesea City Council -37.61331   \n",
       "34850     268.0         135.0     2016.0   Whittlesea City Council -37.61094   \n",
       "34851     288.0           NaN        NaN  Maribyrnong City Council -37.81095   \n",
       "34852     593.0           NaN        NaN  Maribyrnong City Council -37.81053   \n",
       "34855       NaN           NaN        NaN  Maribyrnong City Council       NaN   \n",
       "\n",
       "       Longtitude             Regionname Propertycount  \n",
       "0       144.99580  Northern Metropolitan        4019.0  \n",
       "1       144.99840  Northern Metropolitan        4019.0  \n",
       "3       145.01160  Northern Metropolitan        4019.0  \n",
       "5       144.99690  Northern Metropolitan        4019.0  \n",
       "7       144.99650  Northern Metropolitan        4019.0  \n",
       "...           ...                    ...           ...  \n",
       "34848   145.03412  Northern Metropolitan        2940.0  \n",
       "34850   145.04281  Northern Metropolitan        2940.0  \n",
       "34851   144.88516   Western Metropolitan        6543.0  \n",
       "34852   144.88467   Western Metropolitan        6543.0  \n",
       "34855         NaN   Western Metropolitan        6543.0  \n",
       "\n",
       "[25970 rows x 21 columns]"
      ]
     },
     "execution_count": 86,
     "metadata": {},
     "output_type": "execute_result"
    }
   ],
   "source": [
    "data[data.isnull().any(axis=1)]"
   ]
  },
  {
   "cell_type": "code",
   "execution_count": 87,
   "id": "0e45a898",
   "metadata": {},
   "outputs": [
    {
     "data": {
      "text/plain": [
       "Suburb           False\n",
       "Address          False\n",
       "Rooms            False\n",
       "Type             False\n",
       "Price            False\n",
       "Method           False\n",
       "SellerG          False\n",
       "Date             False\n",
       "Distance         False\n",
       "Postcode         False\n",
       "Bedroom2         False\n",
       "Bathroom         False\n",
       "Car              False\n",
       "Landsize         False\n",
       "BuildingArea     False\n",
       "YearBuilt        False\n",
       "CouncilArea      False\n",
       "Lattitude        False\n",
       "Longtitude       False\n",
       "Regionname       False\n",
       "Propertycount    False\n",
       "dtype: bool"
      ]
     },
     "execution_count": 87,
     "metadata": {},
     "output_type": "execute_result"
    }
   ],
   "source": [
    "data.isnull().all(axis=0)"
   ]
  },
  {
   "cell_type": "code",
   "execution_count": 88,
   "id": "127aee5e",
   "metadata": {},
   "outputs": [
    {
     "name": "stdout",
     "output_type": "stream",
     "text": [
      "rows having all null values : 0\n",
      "columns having all null values : 0\n"
     ]
    }
   ],
   "source": [
    "print(\"rows having all null values : {}\".format(data.isnull().all(axis=1).sum()))\n",
    "print(\"columns having all null values : {}\".format(data.isnull().all(axis=0).sum()))"
   ]
  },
  {
   "cell_type": "code",
   "execution_count": 89,
   "id": "c8241688",
   "metadata": {},
   "outputs": [
    {
     "data": {
      "text/plain": [
       "BuildingArea     60.58\n",
       "YearBuilt        55.39\n",
       "Landsize         33.88\n",
       "Car              25.04\n",
       "Bathroom         23.60\n",
       "Bedroom2         23.57\n",
       "Longtitude       22.88\n",
       "Lattitude        22.88\n",
       "Price            21.83\n",
       "Regionname        0.01\n",
       "CouncilArea       0.01\n",
       "Propertycount     0.01\n",
       "Postcode          0.00\n",
       "Distance          0.00\n",
       "Address           0.00\n",
       "Date              0.00\n",
       "SellerG           0.00\n",
       "Method            0.00\n",
       "Type              0.00\n",
       "Rooms             0.00\n",
       "Suburb            0.00\n",
       "dtype: float64"
      ]
     },
     "execution_count": 89,
     "metadata": {},
     "output_type": "execute_result"
    }
   ],
   "source": [
    "(((data.isnull().sum(axis=0)).sort_values(ascending=False)/len(data))*100).round(2)"
   ]
  },
  {
   "cell_type": "code",
   "execution_count": 90,
   "id": "14ebc455",
   "metadata": {},
   "outputs": [],
   "source": [
    "col=(data.isnull().sum(axis=0)).sort_values(ascending=False).head(3).index.values"
   ]
  },
  {
   "cell_type": "code",
   "execution_count": 91,
   "id": "a9c16d43",
   "metadata": {},
   "outputs": [
    {
     "data": {
      "text/plain": [
       "array(['BuildingArea', 'YearBuilt', 'Landsize'], dtype=object)"
      ]
     },
     "execution_count": 91,
     "metadata": {},
     "output_type": "execute_result"
    }
   ],
   "source": [
    "col"
   ]
  },
  {
   "cell_type": "code",
   "execution_count": 92,
   "id": "1bc967a5",
   "metadata": {},
   "outputs": [],
   "source": [
    "data.drop(col,axis=1,inplace=True)"
   ]
  },
  {
   "cell_type": "code",
   "execution_count": 93,
   "id": "d5de985b",
   "metadata": {},
   "outputs": [
    {
     "data": {
      "text/plain": [
       "Car              25.04\n",
       "Bathroom         23.60\n",
       "Bedroom2         23.57\n",
       "Longtitude       22.88\n",
       "Lattitude        22.88\n",
       "Price            21.83\n",
       "Propertycount     0.01\n",
       "Regionname        0.01\n",
       "CouncilArea       0.01\n",
       "Postcode          0.00\n",
       "Distance          0.00\n",
       "Address           0.00\n",
       "Date              0.00\n",
       "SellerG           0.00\n",
       "Method            0.00\n",
       "Type              0.00\n",
       "Rooms             0.00\n",
       "Suburb            0.00\n",
       "dtype: float64"
      ]
     },
     "execution_count": 93,
     "metadata": {},
     "output_type": "execute_result"
    }
   ],
   "source": [
    "(((data.isnull().sum(axis=0)).sort_values(ascending=False))*100/len(data)).round(2)"
   ]
  },
  {
   "cell_type": "code",
   "execution_count": 94,
   "id": "01400f0e",
   "metadata": {},
   "outputs": [
    {
     "data": {
      "text/html": [
       "<div>\n",
       "<style scoped>\n",
       "    .dataframe tbody tr th:only-of-type {\n",
       "        vertical-align: middle;\n",
       "    }\n",
       "\n",
       "    .dataframe tbody tr th {\n",
       "        vertical-align: top;\n",
       "    }\n",
       "\n",
       "    .dataframe thead th {\n",
       "        text-align: right;\n",
       "    }\n",
       "</style>\n",
       "<table border=\"1\" class=\"dataframe\">\n",
       "  <thead>\n",
       "    <tr style=\"text-align: right;\">\n",
       "      <th></th>\n",
       "      <th>Suburb</th>\n",
       "      <th>Address</th>\n",
       "      <th>Rooms</th>\n",
       "      <th>Type</th>\n",
       "      <th>Price</th>\n",
       "      <th>Method</th>\n",
       "      <th>SellerG</th>\n",
       "      <th>Date</th>\n",
       "      <th>Distance</th>\n",
       "      <th>Postcode</th>\n",
       "      <th>Bedroom2</th>\n",
       "      <th>Bathroom</th>\n",
       "      <th>Car</th>\n",
       "      <th>CouncilArea</th>\n",
       "      <th>Lattitude</th>\n",
       "      <th>Longtitude</th>\n",
       "      <th>Regionname</th>\n",
       "      <th>Propertycount</th>\n",
       "    </tr>\n",
       "  </thead>\n",
       "  <tbody>\n",
       "    <tr>\n",
       "      <th>34</th>\n",
       "      <td>Abbotsford</td>\n",
       "      <td>16b Mollison St</td>\n",
       "      <td>2</td>\n",
       "      <td>h</td>\n",
       "      <td>NaN</td>\n",
       "      <td>PI</td>\n",
       "      <td>Biggin</td>\n",
       "      <td>16/07/2016</td>\n",
       "      <td>2.5</td>\n",
       "      <td>3067.0</td>\n",
       "      <td>NaN</td>\n",
       "      <td>NaN</td>\n",
       "      <td>NaN</td>\n",
       "      <td>Yarra City Council</td>\n",
       "      <td>NaN</td>\n",
       "      <td>NaN</td>\n",
       "      <td>Northern Metropolitan</td>\n",
       "      <td>4019.0</td>\n",
       "    </tr>\n",
       "    <tr>\n",
       "      <th>60</th>\n",
       "      <td>Abbotsford</td>\n",
       "      <td>4/328 Johnston St</td>\n",
       "      <td>2</td>\n",
       "      <td>u</td>\n",
       "      <td>NaN</td>\n",
       "      <td>PI</td>\n",
       "      <td>Biggin</td>\n",
       "      <td>28/05/2016</td>\n",
       "      <td>2.5</td>\n",
       "      <td>3067.0</td>\n",
       "      <td>NaN</td>\n",
       "      <td>NaN</td>\n",
       "      <td>NaN</td>\n",
       "      <td>Yarra City Council</td>\n",
       "      <td>NaN</td>\n",
       "      <td>NaN</td>\n",
       "      <td>Northern Metropolitan</td>\n",
       "      <td>4019.0</td>\n",
       "    </tr>\n",
       "    <tr>\n",
       "      <th>121</th>\n",
       "      <td>Airport West</td>\n",
       "      <td>2/89 Marshall Rd</td>\n",
       "      <td>3</td>\n",
       "      <td>u</td>\n",
       "      <td>NaN</td>\n",
       "      <td>VB</td>\n",
       "      <td>Barry</td>\n",
       "      <td>25/02/2017</td>\n",
       "      <td>13.5</td>\n",
       "      <td>3042.0</td>\n",
       "      <td>NaN</td>\n",
       "      <td>NaN</td>\n",
       "      <td>NaN</td>\n",
       "      <td>Moonee Valley City Council</td>\n",
       "      <td>NaN</td>\n",
       "      <td>NaN</td>\n",
       "      <td>Western Metropolitan</td>\n",
       "      <td>3464.0</td>\n",
       "    </tr>\n",
       "    <tr>\n",
       "      <th>207</th>\n",
       "      <td>Alphington</td>\n",
       "      <td>4/5 Chandler Hwy</td>\n",
       "      <td>4</td>\n",
       "      <td>t</td>\n",
       "      <td>NaN</td>\n",
       "      <td>PN</td>\n",
       "      <td>Nelson</td>\n",
       "      <td>13/08/2016</td>\n",
       "      <td>6.4</td>\n",
       "      <td>3078.0</td>\n",
       "      <td>NaN</td>\n",
       "      <td>NaN</td>\n",
       "      <td>NaN</td>\n",
       "      <td>Darebin City Council</td>\n",
       "      <td>NaN</td>\n",
       "      <td>NaN</td>\n",
       "      <td>Northern Metropolitan</td>\n",
       "      <td>2211.0</td>\n",
       "    </tr>\n",
       "    <tr>\n",
       "      <th>211</th>\n",
       "      <td>Alphington</td>\n",
       "      <td>11 Tower Av</td>\n",
       "      <td>4</td>\n",
       "      <td>h</td>\n",
       "      <td>NaN</td>\n",
       "      <td>S</td>\n",
       "      <td>Jellis</td>\n",
       "      <td>16/04/2016</td>\n",
       "      <td>6.4</td>\n",
       "      <td>3078.0</td>\n",
       "      <td>NaN</td>\n",
       "      <td>NaN</td>\n",
       "      <td>NaN</td>\n",
       "      <td>Darebin City Council</td>\n",
       "      <td>NaN</td>\n",
       "      <td>NaN</td>\n",
       "      <td>Northern Metropolitan</td>\n",
       "      <td>2211.0</td>\n",
       "    </tr>\n",
       "    <tr>\n",
       "      <th>...</th>\n",
       "      <td>...</td>\n",
       "      <td>...</td>\n",
       "      <td>...</td>\n",
       "      <td>...</td>\n",
       "      <td>...</td>\n",
       "      <td>...</td>\n",
       "      <td>...</td>\n",
       "      <td>...</td>\n",
       "      <td>...</td>\n",
       "      <td>...</td>\n",
       "      <td>...</td>\n",
       "      <td>...</td>\n",
       "      <td>...</td>\n",
       "      <td>...</td>\n",
       "      <td>...</td>\n",
       "      <td>...</td>\n",
       "      <td>...</td>\n",
       "      <td>...</td>\n",
       "    </tr>\n",
       "    <tr>\n",
       "      <th>34769</th>\n",
       "      <td>Surrey Hills</td>\n",
       "      <td>1/4 Wells St</td>\n",
       "      <td>2</td>\n",
       "      <td>u</td>\n",
       "      <td>NaN</td>\n",
       "      <td>SP</td>\n",
       "      <td>Jellis</td>\n",
       "      <td>24/02/2018</td>\n",
       "      <td>10.2</td>\n",
       "      <td>3127.0</td>\n",
       "      <td>NaN</td>\n",
       "      <td>NaN</td>\n",
       "      <td>NaN</td>\n",
       "      <td>Boroondara City Council</td>\n",
       "      <td>NaN</td>\n",
       "      <td>NaN</td>\n",
       "      <td>Southern Metropolitan</td>\n",
       "      <td>5457.0</td>\n",
       "    </tr>\n",
       "    <tr>\n",
       "      <th>34779</th>\n",
       "      <td>Templestowe Lower</td>\n",
       "      <td>11/231 High St</td>\n",
       "      <td>3</td>\n",
       "      <td>u</td>\n",
       "      <td>NaN</td>\n",
       "      <td>SN</td>\n",
       "      <td>Woodards</td>\n",
       "      <td>24/02/2018</td>\n",
       "      <td>12.4</td>\n",
       "      <td>3107.0</td>\n",
       "      <td>NaN</td>\n",
       "      <td>NaN</td>\n",
       "      <td>NaN</td>\n",
       "      <td>Manningham City Council</td>\n",
       "      <td>NaN</td>\n",
       "      <td>NaN</td>\n",
       "      <td>Eastern Metropolitan</td>\n",
       "      <td>5420.0</td>\n",
       "    </tr>\n",
       "    <tr>\n",
       "      <th>34792</th>\n",
       "      <td>Thornbury</td>\n",
       "      <td>83/337 Station St</td>\n",
       "      <td>2</td>\n",
       "      <td>u</td>\n",
       "      <td>NaN</td>\n",
       "      <td>S</td>\n",
       "      <td>Nelson</td>\n",
       "      <td>24/02/2018</td>\n",
       "      <td>7.0</td>\n",
       "      <td>3071.0</td>\n",
       "      <td>NaN</td>\n",
       "      <td>NaN</td>\n",
       "      <td>NaN</td>\n",
       "      <td>Darebin City Council</td>\n",
       "      <td>NaN</td>\n",
       "      <td>NaN</td>\n",
       "      <td>Northern Metropolitan</td>\n",
       "      <td>8870.0</td>\n",
       "    </tr>\n",
       "    <tr>\n",
       "      <th>34813</th>\n",
       "      <td>Wantirna South</td>\n",
       "      <td>11/61 Cathies La</td>\n",
       "      <td>4</td>\n",
       "      <td>t</td>\n",
       "      <td>NaN</td>\n",
       "      <td>W</td>\n",
       "      <td>Harcourts</td>\n",
       "      <td>24/02/2018</td>\n",
       "      <td>14.7</td>\n",
       "      <td>3152.0</td>\n",
       "      <td>NaN</td>\n",
       "      <td>NaN</td>\n",
       "      <td>NaN</td>\n",
       "      <td>Knox City Council</td>\n",
       "      <td>NaN</td>\n",
       "      <td>NaN</td>\n",
       "      <td>Eastern Metropolitan</td>\n",
       "      <td>7082.0</td>\n",
       "    </tr>\n",
       "    <tr>\n",
       "      <th>34829</th>\n",
       "      <td>West Melbourne</td>\n",
       "      <td>9/11 Anderson St</td>\n",
       "      <td>3</td>\n",
       "      <td>u</td>\n",
       "      <td>NaN</td>\n",
       "      <td>S</td>\n",
       "      <td>hockingstuart</td>\n",
       "      <td>24/02/2018</td>\n",
       "      <td>3.1</td>\n",
       "      <td>3003.0</td>\n",
       "      <td>NaN</td>\n",
       "      <td>NaN</td>\n",
       "      <td>NaN</td>\n",
       "      <td>Melbourne City Council</td>\n",
       "      <td>NaN</td>\n",
       "      <td>NaN</td>\n",
       "      <td>Northern Metropolitan</td>\n",
       "      <td>2230.0</td>\n",
       "    </tr>\n",
       "  </tbody>\n",
       "</table>\n",
       "<p>1721 rows × 18 columns</p>\n",
       "</div>"
      ],
      "text/plain": [
       "                  Suburb            Address  Rooms Type  Price Method  \\\n",
       "34            Abbotsford    16b Mollison St      2    h    NaN     PI   \n",
       "60            Abbotsford  4/328 Johnston St      2    u    NaN     PI   \n",
       "121         Airport West   2/89 Marshall Rd      3    u    NaN     VB   \n",
       "207           Alphington   4/5 Chandler Hwy      4    t    NaN     PN   \n",
       "211           Alphington        11 Tower Av      4    h    NaN      S   \n",
       "...                  ...                ...    ...  ...    ...    ...   \n",
       "34769       Surrey Hills       1/4 Wells St      2    u    NaN     SP   \n",
       "34779  Templestowe Lower     11/231 High St      3    u    NaN     SN   \n",
       "34792          Thornbury  83/337 Station St      2    u    NaN      S   \n",
       "34813     Wantirna South   11/61 Cathies La      4    t    NaN      W   \n",
       "34829     West Melbourne   9/11 Anderson St      3    u    NaN      S   \n",
       "\n",
       "             SellerG        Date  Distance  Postcode  Bedroom2  Bathroom  Car  \\\n",
       "34            Biggin  16/07/2016       2.5    3067.0       NaN       NaN  NaN   \n",
       "60            Biggin  28/05/2016       2.5    3067.0       NaN       NaN  NaN   \n",
       "121            Barry  25/02/2017      13.5    3042.0       NaN       NaN  NaN   \n",
       "207           Nelson  13/08/2016       6.4    3078.0       NaN       NaN  NaN   \n",
       "211           Jellis  16/04/2016       6.4    3078.0       NaN       NaN  NaN   \n",
       "...              ...         ...       ...       ...       ...       ...  ...   \n",
       "34769         Jellis  24/02/2018      10.2    3127.0       NaN       NaN  NaN   \n",
       "34779       Woodards  24/02/2018      12.4    3107.0       NaN       NaN  NaN   \n",
       "34792         Nelson  24/02/2018       7.0    3071.0       NaN       NaN  NaN   \n",
       "34813      Harcourts  24/02/2018      14.7    3152.0       NaN       NaN  NaN   \n",
       "34829  hockingstuart  24/02/2018       3.1    3003.0       NaN       NaN  NaN   \n",
       "\n",
       "                      CouncilArea  Lattitude  Longtitude  \\\n",
       "34             Yarra City Council        NaN         NaN   \n",
       "60             Yarra City Council        NaN         NaN   \n",
       "121    Moonee Valley City Council        NaN         NaN   \n",
       "207          Darebin City Council        NaN         NaN   \n",
       "211          Darebin City Council        NaN         NaN   \n",
       "...                           ...        ...         ...   \n",
       "34769     Boroondara City Council        NaN         NaN   \n",
       "34779     Manningham City Council        NaN         NaN   \n",
       "34792        Darebin City Council        NaN         NaN   \n",
       "34813           Knox City Council        NaN         NaN   \n",
       "34829      Melbourne City Council        NaN         NaN   \n",
       "\n",
       "                  Regionname  Propertycount  \n",
       "34     Northern Metropolitan         4019.0  \n",
       "60     Northern Metropolitan         4019.0  \n",
       "121     Western Metropolitan         3464.0  \n",
       "207    Northern Metropolitan         2211.0  \n",
       "211    Northern Metropolitan         2211.0  \n",
       "...                      ...            ...  \n",
       "34769  Southern Metropolitan         5457.0  \n",
       "34779   Eastern Metropolitan         5420.0  \n",
       "34792  Northern Metropolitan         8870.0  \n",
       "34813   Eastern Metropolitan         7082.0  \n",
       "34829  Northern Metropolitan         2230.0  \n",
       "\n",
       "[1721 rows x 18 columns]"
      ]
     },
     "execution_count": 94,
     "metadata": {},
     "output_type": "execute_result"
    }
   ],
   "source": [
    "data[data.isnull().sum(axis=1)>5]"
   ]
  },
  {
   "cell_type": "code",
   "execution_count": 95,
   "id": "9c37d385",
   "metadata": {},
   "outputs": [
    {
     "data": {
      "text/plain": [
       "1721"
      ]
     },
     "execution_count": 95,
     "metadata": {},
     "output_type": "execute_result"
    }
   ],
   "source": [
    "len(data[data.isnull().sum(axis=1)>5])"
   ]
  },
  {
   "cell_type": "code",
   "execution_count": 96,
   "id": "cafd2a73",
   "metadata": {},
   "outputs": [
    {
     "data": {
      "text/plain": [
       "4.94"
      ]
     },
     "execution_count": 96,
     "metadata": {},
     "output_type": "execute_result"
    }
   ],
   "source": [
    "round(((len(data[data.isnull().sum(axis=1)>5])/len(data))*100),2)"
   ]
  },
  {
   "cell_type": "code",
   "execution_count": 97,
   "id": "30083ac9",
   "metadata": {},
   "outputs": [
    {
     "data": {
      "text/plain": [
       "Car              25.04\n",
       "Bathroom         23.60\n",
       "Bedroom2         23.57\n",
       "Longtitude       22.88\n",
       "Lattitude        22.88\n",
       "Price            21.83\n",
       "Propertycount     0.01\n",
       "Regionname        0.01\n",
       "CouncilArea       0.01\n",
       "Postcode          0.00\n",
       "Distance          0.00\n",
       "Address           0.00\n",
       "Date              0.00\n",
       "SellerG           0.00\n",
       "Method            0.00\n",
       "Type              0.00\n",
       "Rooms             0.00\n",
       "Suburb            0.00\n",
       "dtype: float64"
      ]
     },
     "execution_count": 97,
     "metadata": {},
     "output_type": "execute_result"
    }
   ],
   "source": [
    "((data.isnull().sum().sort_values(ascending=False)/len(data))*100).round(2)"
   ]
  },
  {
   "cell_type": "code",
   "execution_count": 98,
   "id": "bfecdac7",
   "metadata": {},
   "outputs": [],
   "source": [
    "data=data[data['Price'].notnull()]"
   ]
  },
  {
   "cell_type": "code",
   "execution_count": 99,
   "id": "505ed4d1",
   "metadata": {},
   "outputs": [
    {
     "data": {
      "text/plain": [
       "0"
      ]
     },
     "execution_count": 99,
     "metadata": {},
     "output_type": "execute_result"
    }
   ],
   "source": [
    "data.Price.isnull().sum()"
   ]
  },
  {
   "cell_type": "code",
   "execution_count": 100,
   "id": "9a2bd6a7",
   "metadata": {},
   "outputs": [
    {
     "data": {
      "text/plain": [
       "Car              25.04\n",
       "Bathroom         23.66\n",
       "Bedroom2         23.64\n",
       "Longtitude       22.95\n",
       "Lattitude        22.95\n",
       "Propertycount     0.01\n",
       "Regionname        0.01\n",
       "CouncilArea       0.01\n",
       "Postcode          0.00\n",
       "Distance          0.00\n",
       "Address           0.00\n",
       "Date              0.00\n",
       "SellerG           0.00\n",
       "Method            0.00\n",
       "Price             0.00\n",
       "Type              0.00\n",
       "Rooms             0.00\n",
       "Suburb            0.00\n",
       "dtype: float64"
      ]
     },
     "execution_count": 100,
     "metadata": {},
     "output_type": "execute_result"
    }
   ],
   "source": [
    "round(data.isnull().sum().sort_values(ascending=False)/len(data)*100,2)"
   ]
  },
  {
   "cell_type": "code",
   "execution_count": 101,
   "id": "5df9cd08",
   "metadata": {},
   "outputs": [
    {
     "data": {
      "text/plain": [
       "count    20423.000000\n",
       "mean         1.715370\n",
       "std          0.994216\n",
       "min          0.000000\n",
       "25%          1.000000\n",
       "50%          2.000000\n",
       "75%          2.000000\n",
       "max         18.000000\n",
       "Name: Car, dtype: float64"
      ]
     },
     "execution_count": 101,
     "metadata": {},
     "output_type": "execute_result"
    }
   ],
   "source": [
    "data['Car'].describe()"
   ]
  },
  {
   "cell_type": "code",
   "execution_count": 102,
   "id": "2c905173",
   "metadata": {},
   "outputs": [],
   "source": [
    "data=data[data.Car.notnull()]"
   ]
  },
  {
   "cell_type": "code",
   "execution_count": 103,
   "id": "d4b1c7a2",
   "metadata": {},
   "outputs": [
    {
     "data": {
      "text/plain": [
       "Longtitude       0.11\n",
       "Lattitude        0.11\n",
       "Suburb           0.00\n",
       "Address          0.00\n",
       "Regionname       0.00\n",
       "CouncilArea      0.00\n",
       "Car              0.00\n",
       "Bathroom         0.00\n",
       "Bedroom2         0.00\n",
       "Postcode         0.00\n",
       "Distance         0.00\n",
       "Date             0.00\n",
       "SellerG          0.00\n",
       "Method           0.00\n",
       "Price            0.00\n",
       "Type             0.00\n",
       "Rooms            0.00\n",
       "Propertycount    0.00\n",
       "dtype: float64"
      ]
     },
     "execution_count": 103,
     "metadata": {},
     "output_type": "execute_result"
    }
   ],
   "source": [
    "round(data.isnull().sum().sort_values(ascending=False)/len(data)*100,2)"
   ]
  },
  {
   "cell_type": "code",
   "execution_count": 106,
   "id": "12c3fb94",
   "metadata": {},
   "outputs": [
    {
     "data": {
      "text/html": [
       "<div>\n",
       "<style scoped>\n",
       "    .dataframe tbody tr th:only-of-type {\n",
       "        vertical-align: middle;\n",
       "    }\n",
       "\n",
       "    .dataframe tbody tr th {\n",
       "        vertical-align: top;\n",
       "    }\n",
       "\n",
       "    .dataframe thead th {\n",
       "        text-align: right;\n",
       "    }\n",
       "</style>\n",
       "<table border=\"1\" class=\"dataframe\">\n",
       "  <thead>\n",
       "    <tr style=\"text-align: right;\">\n",
       "      <th></th>\n",
       "      <th>Longtitude</th>\n",
       "      <th>Lattitude</th>\n",
       "    </tr>\n",
       "  </thead>\n",
       "  <tbody>\n",
       "    <tr>\n",
       "      <th>count</th>\n",
       "      <td>20401.000000</td>\n",
       "      <td>20401.000000</td>\n",
       "    </tr>\n",
       "    <tr>\n",
       "      <th>mean</th>\n",
       "      <td>144.997212</td>\n",
       "      <td>-37.806842</td>\n",
       "    </tr>\n",
       "    <tr>\n",
       "      <th>std</th>\n",
       "      <td>0.120885</td>\n",
       "      <td>0.092208</td>\n",
       "    </tr>\n",
       "    <tr>\n",
       "      <th>min</th>\n",
       "      <td>144.423790</td>\n",
       "      <td>-38.190430</td>\n",
       "    </tr>\n",
       "    <tr>\n",
       "      <th>25%</th>\n",
       "      <td>144.924900</td>\n",
       "      <td>-37.861300</td>\n",
       "    </tr>\n",
       "    <tr>\n",
       "      <th>50%</th>\n",
       "      <td>145.004500</td>\n",
       "      <td>-37.799800</td>\n",
       "    </tr>\n",
       "    <tr>\n",
       "      <th>75%</th>\n",
       "      <td>145.069500</td>\n",
       "      <td>-37.748000</td>\n",
       "    </tr>\n",
       "    <tr>\n",
       "      <th>max</th>\n",
       "      <td>145.526350</td>\n",
       "      <td>-37.397800</td>\n",
       "    </tr>\n",
       "  </tbody>\n",
       "</table>\n",
       "</div>"
      ],
      "text/plain": [
       "         Longtitude     Lattitude\n",
       "count  20401.000000  20401.000000\n",
       "mean     144.997212    -37.806842\n",
       "std        0.120885      0.092208\n",
       "min      144.423790    -38.190430\n",
       "25%      144.924900    -37.861300\n",
       "50%      145.004500    -37.799800\n",
       "75%      145.069500    -37.748000\n",
       "max      145.526350    -37.397800"
      ]
     },
     "execution_count": 106,
     "metadata": {},
     "output_type": "execute_result"
    }
   ],
   "source": [
    "data.loc[:,['Longtitude','Lattitude']].describe()"
   ]
  },
  {
   "cell_type": "code",
   "execution_count": 108,
   "id": "7d997efd",
   "metadata": {},
   "outputs": [
    {
     "data": {
      "text/plain": [
       "-37.80684190676945"
      ]
     },
     "execution_count": 108,
     "metadata": {},
     "output_type": "execute_result"
    }
   ],
   "source": [
    "data['Lattitude'].mean()"
   ]
  },
  {
   "cell_type": "code",
   "execution_count": 110,
   "id": "e5cc3201",
   "metadata": {},
   "outputs": [],
   "source": [
    "data['Lattitude']=data['Lattitude'].fillna(data['Lattitude'].mean())"
   ]
  },
  {
   "cell_type": "code",
   "execution_count": 111,
   "id": "94db59c1",
   "metadata": {},
   "outputs": [
    {
     "data": {
      "text/plain": [
       "1       -37.79960\n",
       "2       -37.80790\n",
       "4       -37.80930\n",
       "5       -37.79690\n",
       "6       -37.80720\n",
       "           ...   \n",
       "34849   -37.61031\n",
       "34852   -37.81053\n",
       "34853   -37.81551\n",
       "34854   -37.82286\n",
       "34856   -37.81810\n",
       "Name: Lattitude, Length: 20423, dtype: float64"
      ]
     },
     "execution_count": 111,
     "metadata": {},
     "output_type": "execute_result"
    }
   ],
   "source": [
    "data['Lattitude']"
   ]
  },
  {
   "cell_type": "code",
   "execution_count": 112,
   "id": "10fbd6cd",
   "metadata": {},
   "outputs": [
    {
     "data": {
      "text/plain": [
       "144.99721196362933"
      ]
     },
     "execution_count": 112,
     "metadata": {},
     "output_type": "execute_result"
    }
   ],
   "source": [
    "data['Longtitude'].mean()"
   ]
  },
  {
   "cell_type": "code",
   "execution_count": 113,
   "id": "2fcd3349",
   "metadata": {},
   "outputs": [],
   "source": [
    "data['Longtitude']=data['Longtitude'].fillna(data['Longtitude'].mean())"
   ]
  },
  {
   "cell_type": "code",
   "execution_count": 114,
   "id": "c9757908",
   "metadata": {},
   "outputs": [
    {
     "data": {
      "text/plain": [
       "Suburb           0.0\n",
       "Address          0.0\n",
       "Regionname       0.0\n",
       "Longtitude       0.0\n",
       "Lattitude        0.0\n",
       "CouncilArea      0.0\n",
       "Car              0.0\n",
       "Bathroom         0.0\n",
       "Bedroom2         0.0\n",
       "Postcode         0.0\n",
       "Distance         0.0\n",
       "Date             0.0\n",
       "SellerG          0.0\n",
       "Method           0.0\n",
       "Price            0.0\n",
       "Type             0.0\n",
       "Rooms            0.0\n",
       "Propertycount    0.0\n",
       "dtype: float64"
      ]
     },
     "execution_count": 114,
     "metadata": {},
     "output_type": "execute_result"
    }
   ],
   "source": [
    "round(data.isnull().sum().sort_values(ascending=False)/len(data)*100,2)"
   ]
  },
  {
   "cell_type": "code",
   "execution_count": 117,
   "id": "3ad15098",
   "metadata": {},
   "outputs": [],
   "source": [
    "X=data.drop('Price',axis=1)\n",
    "y=data['Price']"
   ]
  },
  {
   "cell_type": "code",
   "execution_count": 118,
   "id": "97fd1c35",
   "metadata": {},
   "outputs": [],
   "source": [
    "from sklearn.model_selection import train_test_split\n",
    "X_train,X_test,y_train,y_test=train_test_split(X,y,test_size=0.33,random_state=42)"
   ]
  }
 ],
 "metadata": {
  "kernelspec": {
   "display_name": "Python 3 (ipykernel)",
   "language": "python",
   "name": "python3"
  },
  "language_info": {
   "codemirror_mode": {
    "name": "ipython",
    "version": 3
   },
   "file_extension": ".py",
   "mimetype": "text/x-python",
   "name": "python",
   "nbconvert_exporter": "python",
   "pygments_lexer": "ipython3",
   "version": "3.9.12"
  },
  "latex_envs": {
   "LaTeX_envs_menu_present": true,
   "autoclose": false,
   "autocomplete": true,
   "bibliofile": "biblio.bib",
   "cite_by": "apalike",
   "current_citInitial": 1,
   "eqLabelWithNumbers": true,
   "eqNumInitial": 1,
   "hotkeys": {
    "equation": "Ctrl-E",
    "itemize": "Ctrl-I"
   },
   "labels_anchors": false,
   "latex_user_defs": false,
   "report_style_numbering": false,
   "user_envs_cfg": false
  },
  "varInspector": {
   "cols": {
    "lenName": 16,
    "lenType": 16,
    "lenVar": 40
   },
   "kernels_config": {
    "python": {
     "delete_cmd_postfix": "",
     "delete_cmd_prefix": "del ",
     "library": "var_list.py",
     "varRefreshCmd": "print(var_dic_list())"
    },
    "r": {
     "delete_cmd_postfix": ") ",
     "delete_cmd_prefix": "rm(",
     "library": "var_list.r",
     "varRefreshCmd": "cat(var_dic_list()) "
    }
   },
   "types_to_exclude": [
    "module",
    "function",
    "builtin_function_or_method",
    "instance",
    "_Feature"
   ],
   "window_display": false
  }
 },
 "nbformat": 4,
 "nbformat_minor": 5
}
