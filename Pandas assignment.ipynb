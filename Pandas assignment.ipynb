{
 "cells": [
  {
   "cell_type": "code",
   "execution_count": 2,
   "id": "3d2c90b9",
   "metadata": {},
   "outputs": [],
   "source": [
    "import numpy as np\n",
    "import pandas as pd"
   ]
  },
  {
   "cell_type": "code",
   "execution_count": 4,
   "id": "b98fd5b9",
   "metadata": {},
   "outputs": [],
   "source": [
    "dataset=pd.read_excel(\"C:\\\\Users\\\\USER\\\\Downloads\\\\data science practice\\\\\n",
    "Lesson 5 - 2\\\\Olympic 2012 Medal Tally\\\\Olympic 2012 Medal Tally.xlsx\")"
   ]
  },
  {
   "cell_type": "code",
   "execution_count": 6,
   "id": "a4a1e773",
   "metadata": {},
   "outputs": [
    {
     "data": {
      "text/plain": [
       "Index(['Unnamed: 0', 'Unnamed: 1', 'Unnamed: 2', 'Unnamed: 3', 'Unnamed: 4',\n",
       "       'Unnamed: 5', 'Unnamed: 6'],\n",
       "      dtype='object')"
      ]
     },
     "execution_count": 6,
     "metadata": {},
     "output_type": "execute_result"
    }
   ],
   "source": [
    "dataset.columns"
   ]
  },
  {
   "cell_type": "code",
   "execution_count": 7,
   "id": "275ac71e",
   "metadata": {},
   "outputs": [
    {
     "data": {
      "text/html": [
       "<div>\n",
       "<style scoped>\n",
       "    .dataframe tbody tr th:only-of-type {\n",
       "        vertical-align: middle;\n",
       "    }\n",
       "\n",
       "    .dataframe tbody tr th {\n",
       "        vertical-align: top;\n",
       "    }\n",
       "\n",
       "    .dataframe thead th {\n",
       "        text-align: right;\n",
       "    }\n",
       "</style>\n",
       "<table border=\"1\" class=\"dataframe\">\n",
       "  <thead>\n",
       "    <tr style=\"text-align: right;\">\n",
       "      <th></th>\n",
       "      <th>Unnamed: 0</th>\n",
       "      <th>Unnamed: 1</th>\n",
       "      <th>Unnamed: 2</th>\n",
       "      <th>Unnamed: 3</th>\n",
       "      <th>Unnamed: 4</th>\n",
       "      <th>Unnamed: 5</th>\n",
       "      <th>Unnamed: 6</th>\n",
       "    </tr>\n",
       "  </thead>\n",
       "  <tbody>\n",
       "    <tr>\n",
       "      <th>0</th>\n",
       "      <td>NaN</td>\n",
       "      <td>Country</td>\n",
       "      <td>Country Code</td>\n",
       "      <td>Year</td>\n",
       "      <td>Medal Tally</td>\n",
       "      <td>NaN</td>\n",
       "      <td>NaN</td>\n",
       "    </tr>\n",
       "    <tr>\n",
       "      <th>1</th>\n",
       "      <td>NaN</td>\n",
       "      <td>NaN</td>\n",
       "      <td>NaN</td>\n",
       "      <td>NaN</td>\n",
       "      <td>Gold</td>\n",
       "      <td>Silver</td>\n",
       "      <td>Bronze</td>\n",
       "    </tr>\n",
       "    <tr>\n",
       "      <th>2</th>\n",
       "      <td>NaN</td>\n",
       "      <td>Great Britain</td>\n",
       "      <td>GBR</td>\n",
       "      <td>2012</td>\n",
       "      <td>29</td>\n",
       "      <td>17</td>\n",
       "      <td>19</td>\n",
       "    </tr>\n",
       "    <tr>\n",
       "      <th>3</th>\n",
       "      <td>NaN</td>\n",
       "      <td>China</td>\n",
       "      <td>CHN</td>\n",
       "      <td>2012</td>\n",
       "      <td>38</td>\n",
       "      <td>28</td>\n",
       "      <td>22</td>\n",
       "    </tr>\n",
       "    <tr>\n",
       "      <th>4</th>\n",
       "      <td>NaN</td>\n",
       "      <td>Russia</td>\n",
       "      <td>RUS</td>\n",
       "      <td>2012</td>\n",
       "      <td>24</td>\n",
       "      <td>25</td>\n",
       "      <td>32</td>\n",
       "    </tr>\n",
       "    <tr>\n",
       "      <th>5</th>\n",
       "      <td>NaN</td>\n",
       "      <td>United States</td>\n",
       "      <td>US</td>\n",
       "      <td>2012</td>\n",
       "      <td>46</td>\n",
       "      <td>28</td>\n",
       "      <td>29</td>\n",
       "    </tr>\n",
       "    <tr>\n",
       "      <th>6</th>\n",
       "      <td>NaN</td>\n",
       "      <td>Korea</td>\n",
       "      <td>KOR</td>\n",
       "      <td>2012</td>\n",
       "      <td>13</td>\n",
       "      <td>8</td>\n",
       "      <td>7</td>\n",
       "    </tr>\n",
       "    <tr>\n",
       "      <th>7</th>\n",
       "      <td>NaN</td>\n",
       "      <td>Japan</td>\n",
       "      <td>JPN</td>\n",
       "      <td>2012</td>\n",
       "      <td>7</td>\n",
       "      <td>14</td>\n",
       "      <td>17</td>\n",
       "    </tr>\n",
       "    <tr>\n",
       "      <th>8</th>\n",
       "      <td>NaN</td>\n",
       "      <td>Germany</td>\n",
       "      <td>GER</td>\n",
       "      <td>2012</td>\n",
       "      <td>11</td>\n",
       "      <td>11</td>\n",
       "      <td>14</td>\n",
       "    </tr>\n",
       "  </tbody>\n",
       "</table>\n",
       "</div>"
      ],
      "text/plain": [
       "   Unnamed: 0     Unnamed: 1    Unnamed: 2 Unnamed: 3   Unnamed: 4 Unnamed: 5  \\\n",
       "0         NaN        Country  Country Code       Year  Medal Tally        NaN   \n",
       "1         NaN            NaN           NaN        NaN         Gold     Silver   \n",
       "2         NaN  Great Britain           GBR       2012           29         17   \n",
       "3         NaN         China            CHN       2012           38         28   \n",
       "4         NaN         Russia           RUS       2012           24         25   \n",
       "5         NaN  United States            US       2012           46         28   \n",
       "6         NaN          Korea           KOR       2012           13          8   \n",
       "7         NaN          Japan           JPN       2012            7         14   \n",
       "8         NaN        Germany           GER       2012           11         11   \n",
       "\n",
       "  Unnamed: 6  \n",
       "0        NaN  \n",
       "1     Bronze  \n",
       "2         19  \n",
       "3         22  \n",
       "4         32  \n",
       "5         29  \n",
       "6          7  \n",
       "7         17  \n",
       "8         14  "
      ]
     },
     "execution_count": 7,
     "metadata": {},
     "output_type": "execute_result"
    }
   ],
   "source": [
    "dataset"
   ]
  },
  {
   "cell_type": "code",
   "execution_count": 26,
   "id": "3759e3f7",
   "metadata": {},
   "outputs": [],
   "source": [
    "contry=np.array(['GBR' ,'CHN' ,'RUS' ,'US' ,'KOR' ,'JPN', 'GER'])\n",
    "contry_Gold=np.array([29 ,38, 24, 46, 13, 7, 11])\n",
    "contry_Silver=np.array([17, 28 ,25, 28 ,8 ,14 ,11])\n",
    "contry_Bronze=np.array([19, 22, 32, 29, 7, 17, 14])"
   ]
  },
  {
   "cell_type": "code",
   "execution_count": 27,
   "id": "b131b7c4",
   "metadata": {},
   "outputs": [
    {
     "name": "stdout",
     "output_type": "stream",
     "text": [
      "['GBR' 'CHN' 'RUS' 'US' 'KOR' 'JPN' 'GER']\n",
      "[29 38 24 46 13  7 11]\n",
      "[17 28 25 28  8 14 11]\n",
      "[19 22 32 29  7 17 14]\n"
     ]
    }
   ],
   "source": [
    "print(contry)\n",
    "print(contry_Gold)\n",
    "print(contry_Silver)\n",
    "print(contry_Bronze)"
   ]
  },
  {
   "cell_type": "code",
   "execution_count": 28,
   "id": "c2dfefb7",
   "metadata": {},
   "outputs": [],
   "source": [
    "contry_with_max_gold=contry_Gold.argmax()"
   ]
  },
  {
   "cell_type": "code",
   "execution_count": 29,
   "id": "b3e63a60",
   "metadata": {},
   "outputs": [
    {
     "data": {
      "text/plain": [
       "3"
      ]
     },
     "execution_count": 29,
     "metadata": {},
     "output_type": "execute_result"
    }
   ],
   "source": [
    "contry_with_max_gold"
   ]
  },
  {
   "cell_type": "code",
   "execution_count": 30,
   "id": "f66bc2a3",
   "metadata": {},
   "outputs": [],
   "source": [
    "name_contry_with_max_gold=contry[contry_with_max_gold]"
   ]
  },
  {
   "cell_type": "code",
   "execution_count": 31,
   "id": "3759a368",
   "metadata": {},
   "outputs": [
    {
     "data": {
      "text/plain": [
       "'US'"
      ]
     },
     "execution_count": 31,
     "metadata": {},
     "output_type": "execute_result"
    }
   ],
   "source": [
    "name_contry_with_max_gold"
   ]
  },
  {
   "cell_type": "code",
   "execution_count": 42,
   "id": "1eb2f6bb",
   "metadata": {},
   "outputs": [
    {
     "name": "stdout",
     "output_type": "stream",
     "text": [
      "['GBR' 'CHN' 'RUS' 'US']\n"
     ]
    }
   ],
   "source": [
    "print(contry[contry_Gold>20])"
   ]
  },
  {
   "cell_type": "code",
   "execution_count": 47,
   "id": "30b0341c",
   "metadata": {},
   "outputs": [
    {
     "name": "stdout",
     "output_type": "stream",
     "text": [
      "contt GBR ,gm 29 ,totla 65\n",
      "contt CHN ,gm 38 ,totla 88\n",
      "contt RUS ,gm 24 ,totla 81\n",
      "contt US ,gm 46 ,totla 103\n",
      "contt KOR ,gm 13 ,totla 28\n",
      "contt JPN ,gm 7 ,totla 38\n",
      "contt GER ,gm 11 ,totla 36\n"
     ]
    }
   ],
   "source": [
    "for i in range(len(contry)):\n",
    "    contri=contry[i]\n",
    "    total=contry_Gold[i]+contry_Bronze[i]+contry_Silver[i]\n",
    "    print(\"contt {} ,gm {} ,totla {}\".format(contri,contry_Gold_all,total))"
   ]
  },
  {
   "cell_type": "code",
   "execution_count": 49,
   "id": "533e846b",
   "metadata": {},
   "outputs": [
    {
     "name": "stdout",
     "output_type": "stream",
     "text": [
      "contry GBR having 29 np of gm\n",
      "contry CHN having 38 np of gm\n",
      "contry RUS having 24 np of gm\n",
      "contry US having 46 np of gm\n",
      "contry KOR having 13 np of gm\n",
      "contry JPN having 7 np of gm\n",
      "contry GER having 11 np of gm\n"
     ]
    }
   ],
   "source": [
    "for i in range(len(contry)):\n",
    "    cn=contry[i]\n",
    "    ngm=contry_Gold[i]\n",
    "    print(\"contry {} having {} np of gm\".format(cn,ngm))"
   ]
  },
  {
   "cell_type": "code",
   "execution_count": null,
   "id": "b9836102",
   "metadata": {},
   "outputs": [],
   "source": []
  }
 ],
 "metadata": {
  "kernelspec": {
   "display_name": "Python 3 (ipykernel)",
   "language": "python",
   "name": "python3"
  },
  "language_info": {
   "codemirror_mode": {
    "name": "ipython",
    "version": 3
   },
   "file_extension": ".py",
   "mimetype": "text/x-python",
   "name": "python",
   "nbconvert_exporter": "python",
   "pygments_lexer": "ipython3",
   "version": "3.9.12"
  },
  "latex_envs": {
   "LaTeX_envs_menu_present": true,
   "autoclose": false,
   "autocomplete": true,
   "bibliofile": "biblio.bib",
   "cite_by": "apalike",
   "current_citInitial": 1,
   "eqLabelWithNumbers": true,
   "eqNumInitial": 1,
   "hotkeys": {
    "equation": "Ctrl-E",
    "itemize": "Ctrl-I"
   },
   "labels_anchors": false,
   "latex_user_defs": false,
   "report_style_numbering": false,
   "user_envs_cfg": false
  },
  "varInspector": {
   "cols": {
    "lenName": 16,
    "lenType": 16,
    "lenVar": 40
   },
   "kernels_config": {
    "python": {
     "delete_cmd_postfix": "",
     "delete_cmd_prefix": "del ",
     "library": "var_list.py",
     "varRefreshCmd": "print(var_dic_list())"
    },
    "r": {
     "delete_cmd_postfix": ") ",
     "delete_cmd_prefix": "rm(",
     "library": "var_list.r",
     "varRefreshCmd": "cat(var_dic_list()) "
    }
   },
   "types_to_exclude": [
    "module",
    "function",
    "builtin_function_or_method",
    "instance",
    "_Feature"
   ],
   "window_display": false
  }
 },
 "nbformat": 4,
 "nbformat_minor": 5
}
